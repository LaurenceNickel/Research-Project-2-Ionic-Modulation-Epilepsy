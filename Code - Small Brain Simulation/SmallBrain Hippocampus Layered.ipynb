{
 "cells": [
  {
   "cell_type": "markdown",
   "id": "27fc590d-d3fa-4c9c-9091-ce65833ce1ca",
   "metadata": {},
   "source": [
    "<h1 style=\"font-size: 50px;\">Research Project 2 Epilepsy Ionic Modulation - SmallBrain Hippocampus Layered</h1>"
   ]
  },
  {
   "cell_type": "markdown",
   "id": "775d45db-ecde-4107-817b-22d1d7d4bbd5",
   "metadata": {},
   "source": [
    "PLACEHOLDER FOR SMALL EXPLANATION"
   ]
  },
  {
   "cell_type": "markdown",
   "id": "3dbc7291-82c6-44cd-bf20-c4b008e74319",
   "metadata": {},
   "source": [
    "<br></br><br></br>"
   ]
  },
  {
   "cell_type": "markdown",
   "id": "ad949241-52a7-44c4-aa78-34ef69aac4a8",
   "metadata": {},
   "source": [
    "<h2 style=\"font-size: 40px;\">Installing and Importing Libraries</h2>"
   ]
  },
  {
   "cell_type": "code",
   "execution_count": 1,
   "id": "4f62ff77-02e0-403a-92d7-862c41466727",
   "metadata": {
    "ExecuteTime": {
     "end_time": "2024-06-19T09:40:58.003345Z",
     "start_time": "2024-06-19T09:35:28.326945Z"
    }
   },
   "outputs": [],
   "source": [
    "# Installing all the required libraries.\n",
    "!pip install -q jupyter\n",
    "!pip install -q matplotlib\n",
    "!pip install -q numpy\n",
    "!pip install -q pandas\n",
    "!pip install -q plotly\n",
    "!pip install -q scipy\n",
    "!pip install -q tqdm\n",
    "!pip install -q Brian2"
   ]
  },
  {
   "cell_type": "code",
   "execution_count": 10,
   "id": "f612a0ee",
   "metadata": {
    "ExecuteTime": {
     "end_time": "2024-06-19T09:41:08.500797Z",
     "start_time": "2024-06-19T09:41:04.382829Z"
    }
   },
   "outputs": [],
   "source": [
    "# Importing all the required libraries.\n",
    "import os\n",
    "from brian2 import *\n",
    "import random\n",
    "from tqdm.notebook import tqdm\n",
    "import numpy as np\n",
    "\n",
    "import warnings\n",
    "warnings.filterwarnings('ignore')\n",
    "\n",
    "from plots import *\n",
    "from equations import *\n",
    "from global_settings import *\n",
    "from masks import *\n",
    "from helper import *\n",
    "from run_loop import *\n",
    "\n",
    "import time"
   ]
  },
  {
   "cell_type": "markdown",
   "id": "50a64da5-9001-4f34-88e0-65ab7a52d6d5",
   "metadata": {},
   "source": [
    "<br></br><br></br>"
   ]
  },
  {
   "cell_type": "markdown",
   "id": "400b8eac-14cb-41f7-9f52-43ec07831c66",
   "metadata": {},
   "source": [
    "<h2 style=\"font-size: 40px;\">General Functions</h2>"
   ]
  },
  {
   "cell_type": "code",
   "execution_count": 3,
   "id": "e0cc288b-240a-44cd-b832-2981ae76846f",
   "metadata": {},
   "outputs": [],
   "source": [
    "# Reads the stimulus input signal.\n",
    "def read_input_signal(file_name):\n",
    "    in_1 = np.loadtxt('./stimuli/'+file_name)\n",
    "\n",
    "    # Converting the signal to be of type 'TimedArray' with a specified time step which can be used in the simulation.\n",
    "    input_signal = TimedArray(in_1*namp,dt=defaultclock.dt)\n",
    "\n",
    "    return input_signal"
   ]
  },
  {
   "cell_type": "markdown",
   "id": "dc359126-3c97-46d7-b487-0f9038849406",
   "metadata": {},
   "source": [
    "<br></br>"
   ]
  },
  {
   "cell_type": "code",
   "execution_count": 12,
   "id": "5d45825d-afcf-4577-a569-b6cfa46c59d9",
   "metadata": {},
   "outputs": [],
   "source": [
    "# Calculating the middle y-coordinate of the stimulus as well as its radius.\n",
    "def calculate_spherical_stimulus_middle_y_point_and_radius(layer_data, list_of_layers):\n",
    "\n",
    "    # Initializing a cumulative y-coordinate that represents the height of all the layers.\n",
    "    current_total_y = 0\n",
    "\n",
    "    # Initializing a cumulative y-coordinate that represents the height of the layers only in the 'list_of_layers'.\n",
    "    current_layers_y = 0\n",
    "\n",
    "    # Initializing the variables 'y_middle_point' and 'radius_of_stimulus' that will eventually respectively contain the middle y-coordinate of the current layer as well as a radius that makes sure only the neurons from the current layer are part of the stimulus mask.\n",
    "    y_middle_point = 0\n",
    "    radius_of_stimulus = 0\n",
    "\n",
    "    # Looping over every layer and if the current layer is the layer that we are looking for, the 'current_y' variable can be used to retrieve the middle y-coordinate of the current layer. Else, add the layer height to the 'current_y' variable.\n",
    "    for layer in layer_data:\n",
    "        if len(list_of_layers) == 1: \n",
    "            layer_name = list_of_layers[0]\n",
    "            if layer_data[layer]['layer_name'] == layer_name:\n",
    "                y_middle_point = current_total_y + (layer_data[layer]['height'] / 2)\n",
    "                radius_of_stimulus = (layer_data[layer]['height'] / 2) * 0.99  # This is multiplied by 0.99 to ensure that we stay within the bounds of the current layer.\n",
    "            else:\n",
    "                current_total_y += layer_data[layer]['height']\n",
    "        \n",
    "        else:\n",
    "            if layer_data[layer]['layer_name'] in list_of_layers:\n",
    "                if layer_data[layer]['layer_name'] == list_of_layers[-1]:\n",
    "                    y_middle_point = current_total_y + ((current_layers_y + layer_data[layer]['height']) / 2)\n",
    "                    radius_of_stimulus = ((current_layers_y + layer_data[layer]['height']) / 2) * 0.99  # This is multiplied by 0.99 to ensure that we stay within the bounds of the set of layers.\n",
    "                else:\n",
    "                    current_layers_y += layer_data[layer]['height']\n",
    "            else:\n",
    "                current_total_y += layer_data[layer]['height']\n",
    "\n",
    "    return [y_middle_point, radius_of_stimulus]"
   ]
  },
  {
   "cell_type": "markdown",
   "id": "808505a2-0078-441a-93d5-5d33446fd7a4",
   "metadata": {},
   "source": [
    "<br></br><br></br>"
   ]
  },
  {
   "cell_type": "markdown",
   "id": "09a47486-78e3-40d8-a25a-6336560a84dd",
   "metadata": {},
   "source": [
    "<h2 style=\"font-size: 40px;\">Topology and Neuron Groups Functions</h2>"
   ]
  },
  {
   "cell_type": "code",
   "execution_count": 14,
   "id": "ef688cb0-19e8-433a-aef0-b918c5b9350c",
   "metadata": {},
   "outputs": [
    {
     "name": "stdout",
     "output_type": "stream",
     "text": [
      "Total DESIRED number of neurons: 17000\n",
      "Total ACTUAL number of neurons: 16993\n",
      "Total DESIRED neuron density: 78703.70370370371\n",
      "Total ACTUAL neuron density: 78671.2962962963\n",
      "{'EC': {'layer_name': 'EC', 'volume': 0.037222641509433954, 'width': 0.6, 'depth': 0.6, 'height': 0.10339622641509431, 'num_excitatory_neurons': 2343, 'num_inhibitory_neurons': 585}, 'DG': {'layer_name': 'DG', 'volume': 0.11832452830188678, 'width': 0.6, 'depth': 0.6, 'height': 0.32867924528301884, 'num_excitatory_neurons': 7450, 'num_inhibitory_neurons': 1862}, 'CA1': {'layer_name': 'CA1', 'volume': 0.010732075471698114, 'width': 0.6, 'depth': 0.6, 'height': 0.029811320754716982, 'num_excitatory_neurons': 675, 'num_inhibitory_neurons': 168}, 'CA3': {'layer_name': 'CA3', 'volume': 0.02051320754716981, 'width': 0.6, 'depth': 0.6, 'height': 0.0569811320754717, 'num_excitatory_neurons': 1291, 'num_inhibitory_neurons': 322}, 'Sub': {'layer_name': 'Sub', 'volume': 0.029207547169811318, 'width': 0.6, 'depth': 0.6, 'height': 0.08113207547169811, 'num_excitatory_neurons': 1838, 'num_inhibitory_neurons': 459}}\n",
      "{'EC': array([[0.02652845, 0.4016478 , 0.0131983 , ..., 0.56816863, 0.51467778,\n",
      "        0.54709758],\n",
      "       [0.08416125, 0.08806266, 0.05829336, ..., 0.09101788, 0.05893773,\n",
      "        0.08570445],\n",
      "       [0.579206  , 0.09560708, 0.44214128, ..., 0.52397635, 0.29639745,\n",
      "        0.29404057]]), 'DG': array([[0.50643073, 0.54904427, 0.50042894, ..., 0.23765526, 0.45147896,\n",
      "        0.49086205],\n",
      "       [0.14210761, 0.31914745, 0.20247305, ..., 0.31875267, 0.36567701,\n",
      "        0.24989278],\n",
      "       [0.21787685, 0.4889358 , 0.41663408, ..., 0.11074821, 0.44929329,\n",
      "        0.3558283 ]]), 'CA1': array([[0.46207073, 0.08929157, 0.23178209, ..., 0.56595547, 0.39258674,\n",
      "        0.4063045 ],\n",
      "       [0.43836692, 0.44830983, 0.45638308, ..., 0.44211073, 0.43821987,\n",
      "        0.44256928],\n",
      "       [0.54056378, 0.40578619, 0.0578147 , ..., 0.37692717, 0.34011061,\n",
      "        0.03370773]]), 'CA3': array([[0.09707601, 0.47208848, 0.5229986 , ..., 0.39101849, 0.56066677,\n",
      "        0.57836408],\n",
      "       [0.50194726, 0.49268933, 0.47422176, ..., 0.50826212, 0.49370931,\n",
      "        0.51847621],\n",
      "       [0.14857776, 0.34966289, 0.20480761, ..., 0.43800959, 0.34988241,\n",
      "        0.58818889]]), 'Sub': array([[0.56819207, 0.189332  , 0.32286299, ..., 0.5446694 , 0.34820585,\n",
      "        0.20132012],\n",
      "       [0.57476177, 0.52532987, 0.57060043, ..., 0.55162916, 0.54803325,\n",
      "        0.57947838],\n",
      "       [0.31068644, 0.3989275 , 0.28988682, ..., 0.56496805, 0.21414166,\n",
      "        0.54709742]])}\n"
     ]
    }
   ],
   "source": [
    "import random\n",
    "\n",
    "# Creating the complete neuron topology of the model taking into account the layered structure of the hippocampus.\n",
    "def create_complete_neuron_topology_hippocampus_layered(total_num_of_neurons, layer_dimensions, layer_neuron_densities, layer_excitatory_ratios, layer_names):\n",
    "    \n",
    "    # Calculating the neuron density of the whole random topology model.\n",
    "    random_x_bound, random_y_bound, random_z_bound = random_topo_bounds \n",
    "    random_topo_volume = random_x_bound * random_y_bound * random_z_bound\n",
    "    random_topo_density = total_num_of_neurons / random_topo_volume\n",
    "\n",
    "    # Calculating the sum of desired neuron densities across all the hippocampal layers.\n",
    "    total_desired_density = sum(list(layer_neuron_densities.values()))\n",
    "\n",
    "    # Calculating the total number of neurons for each layer based on the proportion of their density to the total desired density.\n",
    "    neuron_counts = {layer: (density / total_desired_density) * total_num_of_neurons for layer, density in layer_neuron_densities.items()}\n",
    "    \n",
    "    # Initializing a dictionary to store information about the layers.\n",
    "    layer_data = {}\n",
    "\n",
    "    # Looping over each layer and calculating its volume and neuron count.\n",
    "    for layer_name in layer_names:\n",
    "        layer_density = layer_neuron_densities[layer_name]\n",
    "        \n",
    "        # Total neurons in the current layer\n",
    "        layer_total_neurons = neuron_counts[layer_name]\n",
    "\n",
    "        # Calculating the volume of the current layer.\n",
    "        layer_volume = layer_total_neurons / random_topo_density\n",
    "\n",
    "        # Calculating the total number of excitatory and inhibitory neurons in the current layer.\n",
    "        layer_num_excitatory_neurons = layer_excitatory_ratios[layer_name] * layer_total_neurons\n",
    "        layer_num_inhibitory_neurons = (1 - layer_excitatory_ratios[layer_name]) * layer_total_neurons\n",
    "\n",
    "        # Fixing the width and the depth of the neuron layer such that only the height of the layers varies.\n",
    "        layer_width = random_x_bound\n",
    "        layer_depth = random_z_bound\n",
    "\n",
    "        # Calculating the height of the layer based on the volume and the width and depth of the layer.\n",
    "        layer_height = layer_volume / (layer_width * layer_depth)\n",
    "\n",
    "        # Adding the layer data to the 'layer_data' dictionary.\n",
    "        layer_data[layer_name] = {\n",
    "            \"layer_name\": layer_name,\n",
    "            \"volume\": layer_volume,\n",
    "            \"width\": layer_width,\n",
    "            \"depth\": layer_depth,\n",
    "            \"height\": layer_height,\n",
    "            \"num_excitatory_neurons\": int(layer_num_excitatory_neurons),\n",
    "            \"num_inhibitory_neurons\": int(layer_num_inhibitory_neurons)         \n",
    "        }\n",
    "\n",
    "    # Initializing a cumulative y-coordinate that will be used for generating the different points across the layers.\n",
    "    current_y = 0\n",
    "\n",
    "    # Initializing two dictionaries that will for each layer store the positions of the excitatory and inhibitory neurons.\n",
    "    excitatory_positions = {}\n",
    "    inhibitory_positions = {}\n",
    "\n",
    "    # Looping over every layer and randomly generating a set of excitatory and inhibitory neurons according to the neurons defined in the 'layer_data'.\n",
    "    for layer in layer_data:\n",
    "        layer_all_info = layer_data[layer]\n",
    "\n",
    "        # Retrieving the number of excitatory and inhibitory neurons that should be present within the current layer.\n",
    "        num_excitatory_neurons = layer_all_info['num_excitatory_neurons']\n",
    "        num_inhibitory_neurons = layer_all_info['num_inhibitory_neurons']\n",
    "\n",
    "        # Generating a set of random x, y, and z positions that fall within the current layer for the excitatory neurons.\n",
    "        layer_x_positions_exc = [random.uniform(0, layer_all_info['width']) for _ in range(num_excitatory_neurons)]\n",
    "        layer_y_positions_exc = [(current_y + random.uniform(0, layer_all_info['height'])) for _ in range(num_excitatory_neurons)]\n",
    "        layer_z_positions_exc = [random.uniform(0, layer_all_info['depth']) for _ in range(num_excitatory_neurons)]\n",
    "        excitatory_topology_layer = np.array([layer_x_positions_exc, layer_y_positions_exc, layer_z_positions_exc])\n",
    "\n",
    "        # Generating a set of random x, y, and z positions that fall within the current layer for the inhibitory neurons.\n",
    "        layer_x_positions_inh = [random.uniform(0, layer_all_info['width']) for _ in range(num_inhibitory_neurons)]\n",
    "        layer_y_positions_inh = [(current_y + random.uniform(0, layer_all_info['height'])) for _ in range(num_inhibitory_neurons)]\n",
    "        layer_z_positions_inh = [random.uniform(0, layer_all_info['depth']) for _ in range(num_inhibitory_neurons)]\n",
    "        inhibitory_topology_layer = np.array([layer_x_positions_inh, layer_y_positions_inh, layer_z_positions_inh])\n",
    "\n",
    "        # Updating the cumulative y-coordinate.\n",
    "        current_y += layer_all_info['height']\n",
    "\n",
    "        # Adding the 'excitatory_topology_layer' and the 'inhibitory_topology_layer' to the dictionaries 'excitatory_positions' and 'inhibitory_positions'.\n",
    "        excitatory_positions[layer_all_info['layer_name']] = excitatory_topology_layer\n",
    "        inhibitory_positions[layer_all_info['layer_name']] = inhibitory_topology_layer\n",
    "        \n",
    "    return [layer_data, excitatory_positions, inhibitory_positions]\n",
    "\n",
    "####################################\n",
    "########  TESTING FUNCTION  ########\n",
    "####################################\n",
    "total_num_of_neurons = 17000\n",
    "layer_dimensions = {\"EC\": {\"width\": , \"height\": , \"depth\": }, \n",
    "                    \"DG\": {\"width\": , \"height\": , \"depth\": },  \n",
    "                    \"CA1\": {\"width\": , \"height\": , \"depth\": }, \n",
    "                    \"CA3\": {\"width\": , \"height\": , \"depth\": }}\n",
    "layer_neuron_densities = {\"EC\": 27400, \n",
    "                          \"DG\": 87100, \n",
    "                          \"CA1\": 7900, \n",
    "                          \"CA3\": 15100}\n",
    "layer_excitatory_ratios = {\"EC\": 0.8, \n",
    "                           \"DG\": 0.8, \n",
    "                           \"CA1\": 0.8, \n",
    "                           \"CA3\": 0.8}\n",
    "layer_names = ['EC', 'DG', 'CA1', 'CA3']\n",
    "\n",
    "layer_data, excitatory_positions, inhibitory_positions = create_complete_neuron_topology_hippocampus_layered(total_num_of_neurons, layer_dimensions, layer_neuron_densities, layer_excitatory_ratios, layer_names)\n",
    "\n",
    "# Calculating the total number of neurons and the total density for verification.\n",
    "total_num_of_neurons_ver = 0\n",
    "total_volume = 0\n",
    "for layer in layer_names:\n",
    "    total_num_of_neurons_ver += (len(excitatory_positions[layer][0]) + len(inhibitory_positions[layer][0]))\n",
    "    total_volume += layer_data[layer]['volume']\n",
    "\n",
    "print(f\"Total DESIRED number of neurons: {total_num_of_neurons}\")\n",
    "print(f\"Total ACTUAL number of neurons: {total_num_of_neurons_ver}\")\n",
    "print(f\"Total DESIRED neuron density: {total_num_of_neurons / (random_topo_bounds[0] * random_topo_bounds[1] * random_topo_bounds[2])}\")\n",
    "print(f\"Total ACTUAL neuron density: {total_num_of_neurons_ver / total_volume}\")\n",
    "print(layer_data)\n",
    "print(excitatory_positions)"
   ]
  },
  {
   "cell_type": "markdown",
   "id": "c5386177-571d-4242-90bc-97665e4d72a5",
   "metadata": {},
   "source": [
    "<br></br>"
   ]
  },
  {
   "cell_type": "code",
   "execution_count": 6,
   "id": "a9391df9",
   "metadata": {},
   "outputs": [],
   "source": [
    "# Creates the group of excitatory neurons.\n",
    "def create_group_py(topology, noise, masks, group_name='exc_group', integ_method='exponential_euler'):\n",
    "\n",
    "    # Extracting the passed on parameters.\n",
    "    x, y, z = topology\n",
    "    mu_noise, sigma_noise = noise\n",
    "    stimulus_mask, treatment_mask = masks\n",
    "\n",
    "    # Initializing a group of excitatory neurons which contains as many neurons as there are total neurons in the 3D space. ????\n",
    "    # It has the following parameters:\n",
    "    # - py_eqs => Differential equations that define the behavior of the excitatory neuron.\n",
    "    # - threshold => Neurons fire an action potential when their membrane potential 'v' exceeds the threshold 'V_th'.\n",
    "    # - reset => Resets neuron states after they fire according to 'reset_eqs'.\n",
    "    # - refractory => Sets a refractory period during which an excitatory neuron cannot fire again.\n",
    "    # - method => Specifies the integration method for solving the differential equations.\n",
    "    G_exc = NeuronGroup(len(x),py_eqs,threshold='v>V_th',reset=reset_eqs,refractory=3*ms,name=group_name, method=integ_method)\n",
    "\n",
    "    # Initializing the membrane potential 'v' to be a random value between -60 mV and -100 mV.\n",
    "    G_exc.v = '-60*mvolt-rand()*40*mvolt'\n",
    "\n",
    "    # Sets the neurotransmitter to be used to be glutamate (which is an excitatory neurotransmitter).\n",
    "    G_exc.glu = 1\n",
    "\n",
    "    # Assigns the positions of the neurons in micrometers.\n",
    "    G_exc.x = x * um\n",
    "    G_exc.y = y * um\n",
    "    G_exc.z = z * um\n",
    "\n",
    "    # Sets the size of the neurons to 'taille_exc_normale'.\n",
    "    G_exc.taille = taille_exc_normale\n",
    "\n",
    "    # Sets the mean and standard deviation of the noise affecting the neurons.\n",
    "    G_exc.mu_noise = mu_noise\n",
    "    G_exc.sigma_noise = sigma_noise\n",
    "\n",
    "    # Applies the treatment and the stimulus masks to the neuron.\n",
    "    G_exc.treatment_mask = treatment_mask\n",
    "    G_exc.stimulus_mask = stimulus_mask\n",
    "\n",
    "    return G_exc"
   ]
  },
  {
   "cell_type": "markdown",
   "id": "74232f22-77a9-4268-8595-d3a38f03a400",
   "metadata": {},
   "source": [
    "<br></br>"
   ]
  },
  {
   "cell_type": "code",
   "execution_count": 7,
   "id": "b2a2423b",
   "metadata": {},
   "outputs": [],
   "source": [
    "# Creates the group of inhibitory neurons.\n",
    "def create_group_inh(topology, noise, treatment_mask, group_name='inh_group', integ_method='exponential_euler'):\n",
    "\n",
    "    # Extracting the passed on parameters.\n",
    "    x, y, z = topology\n",
    "    mu_noise, sigma_noise = noise\n",
    "\n",
    "    # Initializing a group of inhibitory neurons which contains as many neurons as there are total neurons in the 3D space.\n",
    "    # It has the following parameters:\n",
    "    # - inh_eqs => Differential equations that define the behavior of the inhibitory neuron.\n",
    "    # - threshold => Neurons fire an action potential when their membrane potential 'v' exceeds the threshold 'V_th'.\n",
    "    # - refractory => Sets a refractory period during which an inhibitory neuron cannot fire again.\n",
    "    # - method => Specifies the integration method for solving the differential equations.\n",
    "    G_inh = NeuronGroup(len(x),inh_eqs,threshold='v>V_th', name=group_name, refractory=3*ms,method=integ_method)\n",
    "\n",
    "    # Initializing the membrane potential 'v' to be a random value between -60 mV and -70 mV.\n",
    "    G_inh.v = -60*mvolt-rand()*10*mvolt\n",
    "\n",
    "    # Sets the size of the neurons to 'taille_exc_normale'.\n",
    "    G_inh.taille = taille_inh_normale\n",
    "\n",
    "    # Assigns the positions of the neurons in micrometers.\n",
    "    G_inh.x = x * um\n",
    "    G_inh.y = y * um\n",
    "    G_inh.z = z * um\n",
    "\n",
    "    # Sets the mean and standard deviation of the noise affecting the neurons.\n",
    "    G_inh.mu_noise = mu_noise\n",
    "    G_inh.sigma_noise = sigma_noise\n",
    "\n",
    "    # Applies the treatment mask to the neuron.\n",
    "    G_inh.treatment_mask = treatment_mask\n",
    "\n",
    "    return G_inh"
   ]
  },
  {
   "cell_type": "markdown",
   "id": "e1857168-3caa-4f69-99eb-642b320a4f35",
   "metadata": {},
   "source": [
    "<br></br>"
   ]
  },
  {
   "cell_type": "code",
   "execution_count": 8,
   "id": "68b7a1c5",
   "metadata": {},
   "outputs": [],
   "source": [
    "# Creates a group for Local Field Potential (LFP) recording.\n",
    "def create_group_lfp(bounds):\n",
    "\n",
    "    # Extracting the passed on parameters.\n",
    "    x_bound, y_bound, z_bound = bounds\n",
    "    \n",
    "    # Setting up a singular LFP electrode\n",
    "    Ne = 1\n",
    "\n",
    "    # Setting the resistivity of the extracellular field to 0.3 siemens per meter, which is within the typical range for biological tissue (0.3-0.4 S/m).\n",
    "    sigma = 0.3*siemens/meter\n",
    "\n",
    "    # Initializes a group of neurons, which will only consist of 1 representing a single LFP electrode which has three state variables:\n",
    "    # - v : volt => Represents the voltage (LFP signal).\n",
    "    # - x : meter => Represent the x-coordinate of the electrode.\n",
    "    # - y : meter => Represent the y-coordinate of the electrode.\n",
    "    # - z : meter => Represent the z-coordinate of the electrode.\n",
    "    lfp = NeuronGroup(Ne, model='''v : volt\n",
    "                                   x : meter\n",
    "                                   y : meter\n",
    "                                   z : meter''')\n",
    "\n",
    "    # Setting the x, y, and z coordinates of the LFP electrode to the center of the bounds provided. This places the electrode at the midpoint of the defined 3D space in each dimension.\n",
    "    lfp.x = x_bound/2*um\n",
    "    lfp.y = y_bound/2*um\n",
    "    lfp.z = z_bound/2*um\n",
    "\n",
    "    return lfp"
   ]
  },
  {
   "cell_type": "markdown",
   "id": "558578b8-54f0-43fc-9247-653d15cf7106",
   "metadata": {},
   "source": [
    "<br></br><br></br>"
   ]
  },
  {
   "cell_type": "markdown",
   "id": "4cb3ba69-edad-4d16-b306-97fd660d3c91",
   "metadata": {},
   "source": [
    "<h2 style=\"font-size: 40px;\">Network Configuration Function</h2>"
   ]
  },
  {
   "cell_type": "code",
   "execution_count": 9,
   "id": "644b49fa",
   "metadata": {},
   "outputs": [],
   "source": [
    "# Prepares the network of neurons. The topology is already there, but the neurons still need to be connected, which is done here.\n",
    "def prepare_network(topologies, stimulus_mask_exc, treatment_masks, current_variables):\n",
    "\n",
    "    # Extracting the passed on parameters, including the following parameters:\n",
    "    # - p_e2e => Probability of an excitatory to excitatory neuron (synapse) connection.\n",
    "    # - p_e2i => Probability of an excitatory to inhibitory neuron (synapse) connection.\n",
    "    # - p_i2e => Probability of an inhibitory to excitatory neuron (synapse) connection.\n",
    "    # - p_i2i => Probability of an inhibitory to inhibitory neuron (synapse) connection.\n",
    "    p_e2e, p_e2i, p_i2e, p_i2i = current_variables['p']\n",
    "    topology_exc, topology_inh = topologies\n",
    "    treatment_mask_exc, treatment_mask_inh = treatment_masks\n",
    "\n",
    "    \n",
    "    ##########################################\n",
    "    ########  Creating Neuron Groups  ########\n",
    "    ##########################################\n",
    "    # Creating excitatory and inhibitory neuron groups.\n",
    "    G_exc = create_group_py(topology_exc, current_variables['noise_exc'], [stimulus_mask_exc, treatment_mask_exc])\n",
    "    G_inh = create_group_inh(topology_inh, current_variables['noise_inh'], treatment_mask_inh)\n",
    "\n",
    "    # Setting up a Local Field Potential (LFP) electrode.\n",
    "    G_lfp = create_group_lfp(current_variables['bounds'])\n",
    "    neuron_groups = [G_exc, G_inh, G_lfp]\n",
    "\n",
    "    \n",
    "    #####################################\n",
    "    ########  Creating Monitors  ########\n",
    "    #####################################\n",
    "    # Setting up monitors that monitor the population firing rate of excitatory and inhibitory neurons.\n",
    "    popmon_exc = PopulationRateMonitor(G_exc)\n",
    "    popmon_inh = PopulationRateMonitor(G_inh)\n",
    "\n",
    "    # Setting up a monitor that monitors the voltage of the LFP group.\n",
    "    Mlfp = StateMonitor(G_lfp, 'v', record=True)\n",
    "\n",
    "    # Setting up monitors that monitor the membrane potential, the noise current (and the stimulus current) for the selected excitatory/inhibitory neurons.\n",
    "    statemon_exc = StateMonitor(G_exc, ('v', 'I_stim', 'I_noise'), record=[1,2,3,4,5,6], dt=0.001*second)\n",
    "    statemon_inh = StateMonitor(G_inh, ('v', 'I_noise'), record=[1,2,3,4,5,6], dt=0.001*second)\n",
    "    monitors = [popmon_exc, popmon_inh, statemon_exc, statemon_inh, Mlfp]\n",
    "\n",
    "\n",
    "    ############################################\n",
    "    ########  Connecting Neuron Groups  ########\n",
    "    ############################################\n",
    "    # Configuring synaptic connections between neuron groups where in the function call 'Synapses()' the first parameter is the pre-synaptic group and the second parameter is the post-synaptic group. \n",
    "    # The third parameter 'on_pre' specifies the action to be taken when a pre-synaptic neuron fires where the synaptic event will increase the post-synaptic event by a certain amount defined by:\n",
    "    # - gain => A scaling factor for the synaptic strength.\n",
    "    # - g_max/siemens => The maximum conductance for the type of synapse normalized by dividing by 'siemens' which is a unit of conductance.\n",
    "    # - glu_pre => The amount of glutamate released from the pre-synaptic neuron upon firing.\n",
    "    # MIND: This does not create synapses but instead only specifies their dynamics. The actual synapse connections are created by using the function 'connect()'.\n",
    "    S_e2e = Synapses(G_exc, G_exc, on_pre=\"he_post+=\"+str(gain)+\"*\"+str(g_max_e/siemens)+\"*siemens*glu_pre\")\n",
    "    S_e2i = Synapses(G_exc, G_inh, on_pre=\"he_post+=\"+str(gain)+\"*\"+str(g_max_e/siemens)+\"*siemens*glu_pre\", name='synapses_e2i')\n",
    "    S_i2e = Synapses(G_inh, G_exc, on_pre=\"hi_post+=\"+str(gain)+\"*\"+str(g_max_i/siemens)+\"*siemens\", name='synapses_i2e')\n",
    "\n",
    "    # Generating the connections between the groups of neurons which is a probabilistic process indicating that not all neurons are connected with each other but instead it is decided based on the provided probability.\n",
    "    # This is done in the following way:\n",
    "    # - p_e2e => Base probability of connection between neurons of particular groups. \n",
    "    # - distance^2 => Squared Euclidean distance between the pre-synaptic and post-synaptic neurons that decreases the overall probability when it is larger.\n",
    "    # - umeter^2 => Controls the steepness of the exponential decay of the probability.\n",
    "    S_e2e.connect(p=f'{p_e2e}*exp(-(((x_pre-x_post)**2+(y_pre-y_post)**2+(z_pre-z_post)**2) / (({489.9}*umeter)**2)))')\n",
    "    S_e2i.connect(p=f'{p_e2i}*exp(-(((x_pre-x_post)**2+(y_pre-y_post)**2+(z_pre-z_post)**2) / (({489.9}*umeter)**2)))')\n",
    "    S_i2e.connect(p=f'{p_i2e}*exp(-(((x_pre-x_post)**2+(y_pre-y_post)**2+(z_pre-z_post)**2) / (({215}*umeter)**2)))')\n",
    "\n",
    "    # Configuring synaptic connections between the excitatory neurons and the LFP electrode by also specifies a model used for LFP calculation.\n",
    "    S_lfp = Synapses(G_exc, G_lfp, model='''w : ohm*meter**2 (constant) # Weight in the LFP calculation\n",
    "                                       v_post = w*((0.0*amp/meter**2)-Im_pre) : volt (summed)''')\n",
    "\n",
    "    # Ensuring LFP voltage is updated after neuron groups.\n",
    "    S_lfp.summed_updaters['v_post'].when = 'after_groups' \n",
    "\n",
    "    # Generating the connections between the excitatory neurons and the LFP electrode. Here, all of them will be connected since there is no probability defined.\n",
    "    S_lfp.connect()\n",
    "\n",
    "    # Setting the weight for LFP calculation which is scaled by the Euclidean distance measure.\n",
    "    S_lfp.w = '(29e3 * umetre ** 2)/(4*pi*sigma)/((x_pre-x_post)**2+(y_pre-y_post)**2+(z_pre-z_post)**2)**.5'\n",
    "\n",
    "    synapses = [S_e2e, S_e2i, S_i2e, S_lfp]\n",
    "\n",
    "\n",
    "    ############################################\n",
    "    ########  Final Network Definition  ########\n",
    "    ############################################\n",
    "    net = Network(neuron_groups, synapses, monitors)\n",
    "\n",
    "    return net, synapses, monitors"
   ]
  },
  {
   "cell_type": "markdown",
   "id": "62a2d875-6c5a-4dfc-9164-127b36ac8de5",
   "metadata": {},
   "source": [
    "<br></br><br></br>"
   ]
  },
  {
   "cell_type": "markdown",
   "id": "948b1d3c-cddb-48f2-bd18-558925b4ba68",
   "metadata": {},
   "source": [
    "<h2 style=\"font-size: 40px;\">Simulation Functions</h2>"
   ]
  },
  {
   "cell_type": "code",
   "execution_count": 10,
   "id": "9eb10c34",
   "metadata": {},
   "outputs": [],
   "source": [
    "# Runs the simulation of the neural network in discrete time fragments which includes a mechanism to alter neuron parameters based on a firing rate threshold, which simulates a treatment effect.\n",
    "def run_granular_simulation(net, variables, treatment_settings, monitors):\n",
    "    \n",
    "    print('#######################')\n",
    "    print('# Starting Simulation #')\n",
    "    print('#######################')\n",
    "    print()\n",
    "\n",
    "    # Extracting the passed on parameters.\n",
    "    total_duration = variables['duration']\n",
    "    input_signal = read_input_signal(variables['input_signal_file'])\n",
    "    time_fragment, firing_rate_threshold = treatment_settings\n",
    "    popmon_exc, popmon_inh, statemon_exc, statemon_inh, Mlfp = monitors\n",
    "\n",
    "    \n",
    "    # Setting the potassium equilibrium potentials for both the excitatory and inhibitory neurons.\n",
    "    Eke = variables['Eke_baseline']\n",
    "    Eki = variables['Eki_baseline']\n",
    "    Eke_baseline = variables['Eke_baseline']\n",
    "    Eki_baseline = variables['Eki_baseline']\n",
    "    \n",
    "    print('Treatment Parameters:', 'time sensitivity', time_fragment, 'FR Threshold:', firing_rate_threshold)\n",
    "    print()\n",
    "\n",
    "    # Converting the time fragments to milliseconds and determining the number of batches.\n",
    "    time_fragment_ms = int(time_fragment/ms)\n",
    "    num_batches = int(total_duration / time_fragment)\n",
    "\n",
    "    # For every batch, we run the simulation on the network 'net'. Here the 'tqdm()' function is used which creates a progress bar.\n",
    "    for i in tqdm(range(num_batches), desc=\"Running Simulation\"): \n",
    "        net.run(time_fragment)\n",
    "\n",
    "        # If after running a time fragment, the average firing rate of the excitatory neurons over the last time fragment exceeds the threshold, treatment is initiated.\n",
    "        # This statement refers to the scenario where epilepsy is detected and treated by adjusting the potassium equilibrium potentials of the excitatory and inhibitory neurons.\n",
    "        if np.mean(popmon_exc.rate[-time_fragment_ms:]) > firing_rate_threshold:\n",
    "            Eke = variables['Eke_treatment']\n",
    "            Eki = variables['Eki_treatment']"
   ]
  },
  {
   "cell_type": "markdown",
   "id": "e10485d4-e29c-4fda-8b9f-5ed4b434a3a6",
   "metadata": {},
   "source": [
    "<br></br>"
   ]
  },
  {
   "cell_type": "code",
   "execution_count": 14,
   "id": "d698f3c099ba48f2",
   "metadata": {},
   "outputs": [],
   "source": [
    "\n",
    "# Also change this such that we put the stimulus mask in other places in a singular layer (or multiple layers) as well. Use some kind of scaling where 1 is on the edge and 0 in the center (do this for all three dimensions).\n",
    "\n",
    "def create_stimulus_mask(shape_mask, list_of_layers, layer_names):\n",
    "\n",
    "    # Checking if the 'list_of_layers' is empty.\n",
    "    if len(list_of_layers) == 0:\n",
    "        raise ValueError(\"The 'list_of_layers' list is empty.\")\n",
    "    \n",
    "    # Checking if the 'list_of_layers' only contains valid layer names.\n",
    "    if not all(layer in layer_names for layer in list_of_layers):\n",
    "        raise ValueError(\"The 'list_of_layers' list contains an invalid layer name.\")\n",
    "    \n",
    "    # Checking if there are no duplicate layer in the 'list_of_layers'.\n",
    "    if len(list_of_layers) != len(set(list_of_layers)):\n",
    "        raise ValueError(\"The 'list_of_layers' list contains duplicate layers.\")\n",
    "\n",
    "    # Checking that the 'list_of_layers' list only contains layers that are adjacent to each other (otherwise the stimulus mask would pass through layers that are not in this list).\n",
    "    if len(list_of_layers) > 1:\n",
    "        layer_indices = [layer_names.index(layer) for layer in list_of_layers]\n",
    "        if not all(layer_indices[i] + 1 == layer_indices[i+1] for i in range(len(layer_indices) - 1)):\n",
    "            raise ValueError(\"The 'list_of_layers' list contains layers that are not adjacent to each other.\")\n",
    "\n",
    "    \n",
    "    if shape_mask == \"spherical\":\n",
    "        # Setting the middle point of the stimulus mask.\n",
    "        stimulus_layer = list_of_layers[0]\n",
    "        x_middle_point = layer_data[stimulus_layer]['width'] / 2\n",
    "        z_middle_point = layer_data[stimulus_layer]['depth'] / 2\n",
    "        y_middle_point, radius_of_stimulus = calculate_stimulus_middle_y_point_and_radius(layer_data, list_of_layers)\n",
    "        coord_of_stimulus = [[x_middle_point, y_middle_point, z_middle_point]]\n",
    "    \n",
    "        return [coord_of_stimulus, radius_of_stimulus]\n",
    "\n",
    "\n",
    "    elif shape_mask == \"cubical\":\n",
    "        if len(list_of_layers) == 1:\n",
    "\n",
    "\n",
    "        else:\n",
    "            \n",
    "\n",
    "    \n",
    "    else:\n",
    "        raise ValueError(\"The shape of the mask given is not valid. Please select either 'spherical' or 'cubical'.\")\n"
   ]
  },
  {
   "cell_type": "code",
   "execution_count": 16,
   "id": "cb591872-6a9f-48e1-8b8c-b07584774266",
   "metadata": {},
   "outputs": [],
   "source": [
    "layer_names = ['EC', 'DG', 'CA1', 'CA3', 'Sub']\n",
    "create_stimulus_mask('spherical', ['EC'], layer_names)"
   ]
  },
  {
   "cell_type": "markdown",
   "id": "cfab6714-6985-4982-8954-75ed1c8a8eae",
   "metadata": {},
   "source": [
    "<br></br>"
   ]
  },
  {
   "cell_type": "code",
   "execution_count": 11,
   "id": "e34f6cc6",
   "metadata": {},
   "outputs": [],
   "source": [
    "# This function manages the overall process of setting up and running multiple instances of a neural network simulation as after setting everything up, the function 'run_granular_simulation()' is called.\n",
    "# In addition, it also handles the storing of the results.\n",
    "def run_model_loop(variables):\n",
    "\n",
    "    # Checking whether lengths of each variable list is equal.\n",
    "    if not check_dict_lenghts(variables):\n",
    "        raise ValueError('Lenghts of each variable list has be to equal!')\n",
    "\n",
    "    \n",
    "    ############################################\n",
    "    ########  Setting up Stimulus Mask  ########\n",
    "    ############################################\n",
    "    # Setting which layer(s) will feature the stimulus mask and what kind of stimulus mask should be constructed.\n",
    "    stimulus_layers = ['EC']\n",
    "    shape_mask = 'spherical'\n",
    "\n",
    "    # Creating the stimulus mask by calling the function 'create_stimulus_mask()'.\n",
    "    coord_of_stimulus, radius_of_stimulus = create_stimulus_mask(shape_mask, stimulus_layers, variables['layer_names'])\n",
    "    \n",
    "    # Setting the overall geometry settings of the stimulus mask which includes both the middle point as well as the radius.\n",
    "    stimulus_geometry_settings = [coord_of_stimulus, radius_of_stimulus]\n",
    "\n",
    "    # Updating the 'variables'.\n",
    "    variables['coord_of_stimulus'] = coord_of_stimulus * variables['copy_times']\n",
    "    variables['radius_of_stimulus'] = radius_of_stimulus * variables['copy_times']\n",
    "    \n",
    "    # HERE SET SOME VARIABLES FOR THE ELECTRODE CALCULATION\n",
    "    # distance between masks = 1/6 * lowest dimension\n",
    "    # radius of electrode = 1/3 * lowest dimension\n",
    "\n",
    "\n",
    "    ############################################\n",
    "    ########  Setting up Electrode  ############\n",
    "    ############################################\n",
    "    # Adding the coordinates of the electrode to the variables array.\n",
    "    variables['coord_of_electrode'] = populate_electrode_positions(variables)\n",
    "\n",
    "    \n",
    "    # For every run provided in the 'run_id' field of the variables dictionary we perform the simulation (which requires some setting up first).\n",
    "    for i in range(len(variables['run_id'])):\n",
    "\n",
    "        ##########################################\n",
    "        ########  Basic Simulation Setup  ########\n",
    "        ##########################################\n",
    "        # Resetting the state of the simulation environment (to avoid interference from the previous run) and seeting the default simulation time step.\n",
    "        start_scope()\n",
    "        defaultclock.dt = 0.001*second   \n",
    "\n",
    "        # Extracting the list of variables required for the current run.\n",
    "        current_variables = {key: variables[key][i] for key in variables}\n",
    "        print(current_variables['noise_exc'])\n",
    "\n",
    "        # Retrieving the treatment settings.\n",
    "        treatment_settings = [current_variables['device_sensitivity'], current_variables['firing_rate_threshold']]\n",
    "\n",
    "        # Creating a folder to store the results.\n",
    "        run_id = current_variables['run_id']\n",
    "        os.mkdir(f'./results/{run_id}')\n",
    "        write_run_settings(current_variables, run_id)\n",
    "\n",
    "        \n",
    "        #######################################\n",
    "        ########  Creating Topologies  ########\n",
    "        #######################################\n",
    "        # Creating the topologies of both the excitatory and inhibitory neurons.\n",
    "        layer_data, excitatory_positions, inhibitory_positions = create_complete_neuron_topology_hippocampus_layered(current_variables['N'], current_variables['random_topo_bounds'], current_variables['layer_densities'], current_variables['excitatory_ratios'], current_variables['layer_names'])\n",
    "\n",
    "        # Assigning the topologies of the excitatory neurons of the different layers to separate variables.\n",
    "        topology_EC_exc = excitatory_positions['EC']\n",
    "        topology_DG_exc = excitatory_positions['DG']\n",
    "        topology_CA1_exc = excitatory_positions['CA1']\n",
    "        topology_CA3_exc = excitatory_positions['CA3']\n",
    "        topology_Sub_exc = excitatory_positions['Sub']\n",
    "\n",
    "        # Assigning the topologies of the inhibitory neurons of the different layers to separate variables.\n",
    "        topology_EC_inh = inhibitory_positions['EC']\n",
    "        topology_DG_inh = inhibitory_positions['DG']\n",
    "        topology_CA1_inh = inhibitory_positions['CA1']\n",
    "        topology_CA3_inh = inhibitory_positions['CA3']\n",
    "        topology_Sub_inh = inhibitory_positions['Sub']\n",
    "\n",
    "        # Adding all the topologies of the neurons to a list.\n",
    "        topologies_exc = [topology_EC_exc, topology_DG_exc, topology_CA1_exc, topology_CA3_exc, topology_Sub_exc]\n",
    "        topologies_inh = [topology_EC_inh, topology_DG_inh, topology_CA1_inh, topology_CA3_inh, topology_Sub_inh]\n",
    "\n",
    "        \n",
    "        ##########################################\n",
    "        ########  Creating Stimulus Mask  ########\n",
    "        ##########################################\n",
    "        # Creating the stimulus mask. --> MAYBE loop over them all here and simply add all the neurons of a certain layer if it is in the list of layers.\n",
    "        topology_exc = 0\n",
    "        for stimulus_layer in stimulus_layers:\n",
    "            match stimulus_layer:\n",
    "                case 'EC':\n",
    "                    topology_exc = topology_EC_exc\n",
    "                case 'DG':\n",
    "                    topology_exc = topology_DG_exc\n",
    "                case 'CA1':\n",
    "                    topology_exc = topology_CA1_exc\n",
    "                case 'CA3':\n",
    "                    topology_exc = topology_CA3_exc\n",
    "                case 'Sub':\n",
    "                    topology_exc = topology_Sub_exc\n",
    "\n",
    "        # Add different implementation for cubical!!!!\n",
    "        stimulus_mask_exc = create_spherical_mask(topology_exc, stimulus_geometry_settings)\n",
    "\n",
    "        \n",
    "        ###########################################\n",
    "        ########  Creating Treatment Mask  ########\n",
    "        ###########################################\n",
    "        # Defining which kind of treatment mask to use.\n",
    "        treatment_mask = \"all_neurons\"\n",
    "        treatment_mask = \"all_layer_EC\"\n",
    "        treatment_mask = \"spherical_layer_EC\"\n",
    "        \n",
    "        # Creating the treatment mask where only a sphere of neurons in the middle of the area is included.\n",
    "        treatment_geometry_settings = [current_variables['coord_of_electrode'], current_variables['radius_of_electrode']]\n",
    "        treatment_mask_exc = create_spherical_mask(topology_exc, treatment_geometry_settings)\n",
    "        treatment_mask_inh = create_spherical_mask(topology_inh, treatment_geometry_settings)\n",
    "\n",
    "        # # Creating the treatment mask where all the neurons are included.\n",
    "        # treatment_mask_exc = np.ones(current_variables['N'][0])\n",
    "        # treatment_mask_inh = np.ones(current_variables['N'][1])\n",
    "        \n",
    "        treatment_masks = [treatment_mask_exc, treatment_mask_inh]\n",
    "\n",
    "\n",
    "        ########################################\n",
    "        ########  Initializing Network  ########\n",
    "        ########################################\n",
    "        # Instantiating the network and setting up the monitors.\n",
    "        net, synapses, monitors = prepare_network(topologies, stimulus_mask_exc, treatment_masks, current_variables)\n",
    "        popmon_exc, popmon_inh, statemon_exc, statemon_inh, Mlfp = monitors\n",
    "        \n",
    "        # Writing the network statistics to a file.\n",
    "        write_network_statistics(synapses, current_variables['N'], run_id)\n",
    "\n",
    "        # Plotting and saving the neuron stimulus and treatment mask.\n",
    "        plot_neuron_masks(topology_exc, [stimulus_mask_exc, treatment_mask_exc], run_id)\n",
    "        plot_neuron_mask(topology_exc, stimulus_mask_exc, 'red', 'stimulus', run_id)\n",
    "        plot_neuron_mask(topology_exc, treatment_mask_exc, 'blue', 'treatment', run_id)\n",
    "\n",
    "        try:\n",
    "            # Running the simulation with the dynamic objects created above.\n",
    "            run_granular_simulation(net, current_variables, treatment_settings, monitors)\n",
    "\n",
    "            # Saving the firing rate data.\n",
    "            np.savetxt(f'./results/{run_id}/fr_exc.txt', popmon_exc.rate)\n",
    "            np.savetxt(f'./results/{run_id}/fr_inh.txt', popmon_inh.rate)\n",
    "\n",
    "            # Plotting the firing rate data together with the noise for both the excitatory and inhibitory neurons.\n",
    "            plt.plot(popmon_inh.t, popmon_inh.rate, label='Inhibitory')\n",
    "            plt.plot(popmon_exc.t, popmon_exc.rate, label='Excitatory')\n",
    "\n",
    "            # Plotting and saving the firing rates.\n",
    "            plt.legend()\n",
    "            plt.savefig(f'./results/{run_id}/firing-rates.png', bbox_inches='tight')\n",
    "            plt.close()\n",
    "\n",
    "            # Plotting and saving the noise for the inhibitory neurons.\n",
    "            plt.plot(statemon_inh.t, statemon_inh.I_noise[4]/nA, label='inh')\n",
    "            plt.savefig(f'./results/{run_id}/noise_inh.png', bbox_inches='tight')\n",
    "            plt.close()\n",
    "\n",
    "            # Plotting and saving the noise for the excitatory neurons.\n",
    "            plt.plot(statemon_exc.t, statemon_exc.I_noise[4]/nA, label='exc')\n",
    "            plt.savefig(f'./results/{run_id}/noise_exc.png', bbox_inches='tight')\n",
    "            plt.close()\n",
    "\n",
    "            # Plotting and saving the recorded LFP voltage values in millivolts from the 'Mlfp' monitor. \n",
    "            np.savetxt(f'./results/{run_id}/LFP.txt', Mlfp.v[0]/mV)\n",
    "            plot(Mlfp.t/ms, Mlfp.v[0]/mV)\n",
    "            plt.savefig(f'./results/{run_id}/LFP.png', bbox_inches='tight')\n",
    "            plt.close()\n",
    "\n",
    "            \n",
    "        except:\n",
    "            print('Broken run.')\n",
    "        \n",
    "        time.sleep(1)"
   ]
  },
  {
   "cell_type": "markdown",
   "id": "98291fe9-880b-42ad-a435-bcd62607bfba",
   "metadata": {},
   "source": [
    "<br></br><br></br>"
   ]
  },
  {
   "cell_type": "markdown",
   "id": "ccc85ab7-a8e2-4d12-9cad-1ebba6ecdbf5",
   "metadata": {},
   "source": [
    "<h2 style=\"font-size: 40px;\">Simulation Variables</h2>"
   ]
  },
  {
   "cell_type": "code",
   "execution_count": 32,
   "id": "fa57f8e0",
   "metadata": {},
   "outputs": [],
   "source": [
    "########################################\n",
    "########  Simulation Variables  ########\n",
    "########################################\n",
    "\n",
    "# Setting the number of times the simulation will be performed.\n",
    "copy_times = 5\n",
    "\n",
    "# Defining the layer densities and layer excitatory to inhibitory ratios.\n",
    "layer_densities_dict = {\"EC\": 27400, \n",
    "                        \"DG\": 87100, \n",
    "                        \"CA1\": 7900, \n",
    "                        \"CA3\": 15100, \n",
    "                        \"Sub\": 21500}\n",
    "excitatory_ratios_dict = {\"EC\": 0.8, \n",
    "                          \"DG\": 0.8, \n",
    "                          \"CA1\": 0.8, \n",
    "                          \"CA3\": 0.8, \n",
    "                          \"Sub\": 0.8}\n",
    "\n",
    "# Defining the vocabulary of variables.\n",
    "variables = {\n",
    "    \n",
    "    # Defining the simulation settings.\n",
    "    \"run_id\": ['Results 1', 'Results 2', 'Results 3', 'Results 4', 'Results 5'],\n",
    "    \"duration\": [4000*ms]*copy_times,\n",
    "    \"copy_times\": copy_times,\n",
    "\n",
    "    # Defining the total number of neurons of the model.\n",
    "    \"N\": [17000]*copy_times,\n",
    "\n",
    "    # Defining the bounds used in the random topology model.\n",
    "    \"bounds\": [[0.6, 0.6, 0.6]]*copy_times,\n",
    "    \n",
    "    # Defining the number of neurons per mm^3 and the excitatory ratio for each of the layers.\n",
    "    \"layer_names\": ['EC', 'DG', 'CA1', 'CA3', 'Sub']*copy_times,\n",
    "    \"layer_densities\": [dict(layer_densities_dict)]*copy_times,\n",
    "    \"excitatory_ratios\": [dict(excitatory_ratios_dict)]*copy_times,\n",
    "\n",
    "    # Defining the potassium equilibrium potential for both the excitatory and inhibitory neurons.\n",
    "    # - Healthy mode: Eke_baseline = -90mV\n",
    "    # - Epileptic mode: Eke_baseline = -84mV\n",
    "    \"Eke_baseline\": [-84*mV]*copy_times, \n",
    "    \"Eki_baseline\": [-90*mV]*copy_times,\n",
    "\n",
    "    # Defining the noise affecting the excitatory and inhibitory neurons.\n",
    "    \"noise_exc\": [[0.07, 0.075]*nA]*copy_times, # OLD: [0.1045, 0.104]\n",
    "    \"noise_inh\": [[0.05, 0.08]*nA]*copy_times,\n",
    "\n",
    "    # Defining the base probabilities of connections between neurons:\n",
    "    # - p_e2e => Probability of an excitatory to excitatory neuron (synapse) connection.\n",
    "    # - p_e2i => Probability of an excitatory to inhibitory neuron (synapse) connection.\n",
    "    # - p_i2e => Probability of an inhibitory to excitatory neuron (synapse) connection.\n",
    "    # - p_i2i => Probability of an inhibitory to inhibitory neuron (synapse) connection.\n",
    "    # Normal ranges from 0.7-0.75, to activate sprouting increase the normal by 0.5\n",
    "    # This will increase the average number of excitatory connections by 500.\n",
    "    \"p\": [[0.75, 0.35, 0.35, 0.0]]*copy_times, \n",
    "\n",
    "    # Defining from which file the stimulus originates.\n",
    "    \"input_signal_file\": ['sigmoid-1.0.txt']*copy_times, \n",
    "\n",
    "    # Defining the treatment settings.\n",
    "    \"device_sensitivity\": [8*ms]*copy_times, # Device sensitivity - how frequently to check is firing rate is above the threshold\n",
    "    \"firing_rate_threshold\": [5*Hz]*copy_times, \n",
    "    \"Eke_treatment\": [-100*mV]*copy_times,\n",
    "    \"Eki_treatment\": [-90*mV]*copy_times,\n",
    "\n",
    "\n",
    "\n",
    "    # SHOULD BE UPDATED!!!!\n",
    "    \"radius_of_electrode\": [200]*copy_times,\n",
    "    \n",
    "    \n",
    "    \n",
    "    \n",
    "    \n",
    "    \"distance_between_masks\": [100]*copy_times,\n",
    "}"
   ]
  },
  {
   "cell_type": "code",
   "execution_count": 33,
   "id": "d8f000fb-6885-4e25-b491-61d4c7287d07",
   "metadata": {},
   "outputs": [
    {
     "name": "stdout",
     "output_type": "stream",
     "text": [
      "\n"
     ]
    },
    {
     "ename": "ValueError",
     "evalue": "Diameter provided is larger than box size",
     "output_type": "error",
     "traceback": [
      "\u001b[1;31m---------------------------------------------------------------------------\u001b[0m",
      "\u001b[1;31mValueError\u001b[0m                                Traceback (most recent call last)",
      "Cell \u001b[1;32mIn[33], line 1\u001b[0m\n\u001b[1;32m----> 1\u001b[0m \u001b[43mpopulate_electrode_positions\u001b[49m\u001b[43m(\u001b[49m\u001b[43mvariables\u001b[49m\u001b[43m)\u001b[49m\n",
      "File \u001b[1;32m~\\OneDrive\\Documenten\\Research-Project-2-Ionic-Modulation-Epilepsy\\Code - Small Brain Simulation\\masks.py:92\u001b[0m, in \u001b[0;36mpopulate_electrode_positions\u001b[1;34m(variables)\u001b[0m\n\u001b[0;32m     90\u001b[0m     bounds \u001b[38;5;241m=\u001b[39m variables[\u001b[38;5;124m'\u001b[39m\u001b[38;5;124mbounds\u001b[39m\u001b[38;5;124m'\u001b[39m][i]\n\u001b[0;32m     91\u001b[0m     \u001b[38;5;28mprint\u001b[39m()\n\u001b[1;32m---> 92\u001b[0m     coord \u001b[38;5;241m=\u001b[39m \u001b[43mget_coord_of_electrode\u001b[49m\u001b[43m(\u001b[49m\u001b[43mvariables\u001b[49m\u001b[43m[\u001b[49m\u001b[38;5;124;43m\"\u001b[39;49m\u001b[38;5;124;43mcoord_of_stimulus\u001b[39;49m\u001b[38;5;124;43m\"\u001b[39;49m\u001b[43m]\u001b[49m\u001b[43m[\u001b[49m\u001b[43mi\u001b[49m\u001b[43m]\u001b[49m\u001b[43m,\u001b[49m\u001b[43m \u001b[49m\u001b[43mbounds\u001b[49m\u001b[43m,\u001b[49m\u001b[43m \u001b[49m\u001b[43mvariables\u001b[49m\u001b[43m[\u001b[49m\u001b[38;5;124;43m\"\u001b[39;49m\u001b[38;5;124;43mdistance_between_masks\u001b[39;49m\u001b[38;5;124;43m\"\u001b[39;49m\u001b[43m]\u001b[49m\u001b[43m[\u001b[49m\u001b[43mi\u001b[49m\u001b[43m]\u001b[49m\u001b[43m,\u001b[49m\u001b[43m \u001b[49m\u001b[43mvariables\u001b[49m\u001b[43m[\u001b[49m\u001b[38;5;124;43m\"\u001b[39;49m\u001b[38;5;124;43mradius_of_electrode\u001b[39;49m\u001b[38;5;124;43m\"\u001b[39;49m\u001b[43m]\u001b[49m\u001b[43m[\u001b[49m\u001b[43mi\u001b[49m\u001b[43m]\u001b[49m\u001b[43m)\u001b[49m\n\u001b[0;32m     93\u001b[0m     coords_of_electrode\u001b[38;5;241m.\u001b[39mappend(coord\u001b[38;5;241m.\u001b[39mtolist())\n\u001b[0;32m     95\u001b[0m \u001b[38;5;28;01mreturn\u001b[39;00m coords_of_electrode\n",
      "File \u001b[1;32m~\\OneDrive\\Documenten\\Research-Project-2-Ionic-Modulation-Epilepsy\\Code - Small Brain Simulation\\masks.py:54\u001b[0m, in \u001b[0;36mget_coord_of_electrode\u001b[1;34m(first_mask_coord, box_bounds, distance_between, mask_radius)\u001b[0m\n\u001b[0;32m     51\u001b[0m \u001b[38;5;28;01mdef\u001b[39;00m \u001b[38;5;21mget_coord_of_electrode\u001b[39m(first_mask_coord, box_bounds, distance_between, mask_radius):\n\u001b[0;32m     53\u001b[0m     \u001b[38;5;28;01mif\u001b[39;00m mask_radius\u001b[38;5;241m*\u001b[39m\u001b[38;5;241m2\u001b[39m \u001b[38;5;241m>\u001b[39m box_bounds[\u001b[38;5;241m0\u001b[39m] \u001b[38;5;129;01mor\u001b[39;00m mask_radius\u001b[38;5;241m*\u001b[39m\u001b[38;5;241m2\u001b[39m \u001b[38;5;241m>\u001b[39m box_bounds[\u001b[38;5;241m1\u001b[39m] \u001b[38;5;129;01mor\u001b[39;00m mask_radius\u001b[38;5;241m*\u001b[39m\u001b[38;5;241m2\u001b[39m \u001b[38;5;241m>\u001b[39m box_bounds[\u001b[38;5;241m2\u001b[39m]:\n\u001b[1;32m---> 54\u001b[0m         \u001b[38;5;28;01mraise\u001b[39;00m \u001b[38;5;167;01mValueError\u001b[39;00m(\u001b[38;5;124m'\u001b[39m\u001b[38;5;124mDiameter provided is larger than box size\u001b[39m\u001b[38;5;124m'\u001b[39m)\n\u001b[0;32m     56\u001b[0m     box_bounds_lower \u001b[38;5;241m=\u001b[39m np\u001b[38;5;241m.\u001b[39marray([mask_radius]\u001b[38;5;241m*\u001b[39m\u001b[38;5;241m3\u001b[39m)\n\u001b[0;32m     57\u001b[0m     box_bounds_upper \u001b[38;5;241m=\u001b[39m np\u001b[38;5;241m.\u001b[39marray(box_bounds) \u001b[38;5;241m-\u001b[39m mask_radius\n",
      "\u001b[1;31mValueError\u001b[0m: Diameter provided is larger than box size"
     ]
    }
   ],
   "source": [
    "populate_electrode_positions(variables)"
   ]
  },
  {
   "cell_type": "markdown",
   "id": "8f620dff-7178-4719-802d-234e01d7ade9",
   "metadata": {
    "scrolled": true
   },
   "source": [
    "<br></br><br></br>"
   ]
  },
  {
   "cell_type": "markdown",
   "id": "8643c399-9a7c-4e4e-8a53-afee09595e84",
   "metadata": {},
   "source": [
    "<h2 style=\"font-size: 40px;\">Running the Simulation</h2>"
   ]
  },
  {
   "cell_type": "code",
   "execution_count": 13,
   "id": "d5642155",
   "metadata": {},
   "outputs": [
    {
     "name": "stdout",
     "output_type": "stream",
     "text": [
      "\n",
      "Radius of electrode: 200\n",
      "Max distance possible between masks: 173.20508075688772\n",
      "Distance selected: 100\n",
      "\n",
      "\n",
      "Radius of electrode: 200\n",
      "Max distance possible between masks: 173.20508075688772\n",
      "Distance selected: 100\n",
      "\n",
      "\n",
      "Radius of electrode: 200\n",
      "Max distance possible between masks: 173.20508075688772\n",
      "Distance selected: 100\n",
      "\n",
      "\n",
      "Radius of electrode: 200\n",
      "Max distance possible between masks: 173.20508075688772\n",
      "Distance selected: 100\n",
      "\n",
      "\n",
      "Radius of electrode: 200\n",
      "Max distance possible between masks: 173.20508075688772\n",
      "Distance selected: 100\n",
      "\n",
      "[70. 75.] pA\n"
     ]
    },
    {
     "name": "stderr",
     "output_type": "stream",
     "text": [
      "cl : Command line warning D9025 : overriding '/W3' with '/w'\n",
      "WARNING    Cannot use Cython, a test compilation failed: command 'C:\\\\Program Files (x86)\\\\Microsoft Visual Studio\\\\2022\\\\BuildTools\\\\VC\\\\Tools\\\\MSVC\\\\14.39.33519\\\\bin\\\\HostX86\\\\x64\\\\cl.exe' failed with exit code 2 (CompileError) [brian2.codegen.runtime.cython_rt.cython_rt.failed_compile_test]\n",
      "INFO       Cannot use compiled code, falling back to the numpy code generation target. Note that this will likely be slower than using compiled code. Set the code generation to numpy manually to avoid this message:\n",
      "prefs.codegen.target = \"numpy\" [brian2.devices.device.codegen_fallback]\n"
     ]
    },
    {
     "name": "stdout",
     "output_type": "stream",
     "text": [
      "_cython_magic_53cfa03f278cdb8b8876fb3be0f858b3.cpp\n",
      "C:\\Users\\laure\\.cython\\brian_extensions\\_cython_magic_53cfa03f278cdb8b8876fb3be0f858b3.cpp(42): fatal error C1083: Cannot open include file: 'Python.h': No such file or directory\n",
      "#######################\n",
      "# Starting Simulation #\n",
      "#######################\n",
      "\n",
      "Treatment Parameters: time sensitivity 8. ms FR Threshold: 5. Hz\n",
      "\n"
     ]
    },
    {
     "data": {
      "application/vnd.jupyter.widget-view+json": {
       "model_id": "74d2700829164950a59fae5616fa0154",
       "version_major": 2,
       "version_minor": 0
      },
      "text/plain": [
       "Running Simulation:   0%|          | 0/500 [00:00<?, ?it/s]"
      ]
     },
     "metadata": {},
     "output_type": "display_data"
    },
    {
     "name": "stderr",
     "output_type": "stream",
     "text": [
      "WARNING    'glu' is an internal variable of group 'exc_group', but also exists in the run namespace with the value 1. The internal variable will be used. [brian2.groups.group.Group.resolve.resolution_conflict]\n",
      "WARNING    inh_group's variable 'v' has NaN, very large values, or encountered an error in numerical integration. This is usually a sign that an unstable or invalid integration method was chosen. [brian2.groups.group.invalid_values]\n",
      "WARNING    inh_group's variable 'm' has NaN, very large values, or encountered an error in numerical integration. This is usually a sign that an unstable or invalid integration method was chosen. [brian2.groups.group.invalid_values]\n",
      "WARNING    inh_group's variable 'h' has NaN, very large values, or encountered an error in numerical integration. This is usually a sign that an unstable or invalid integration method was chosen. [brian2.groups.group.invalid_values]\n",
      "WARNING    inh_group's variable 'n' has NaN, very large values, or encountered an error in numerical integration. This is usually a sign that an unstable or invalid integration method was chosen. [brian2.groups.group.invalid_values]\n"
     ]
    },
    {
     "name": "stdout",
     "output_type": "stream",
     "text": [
      "[70. 75.] pA\n",
      "#######################\n",
      "# Starting Simulation #\n",
      "#######################\n",
      "\n",
      "Treatment Parameters: time sensitivity 8. ms FR Threshold: 5. Hz\n",
      "\n"
     ]
    },
    {
     "data": {
      "application/vnd.jupyter.widget-view+json": {
       "model_id": "712b8564ca9f4cc897f91116b558d86d",
       "version_major": 2,
       "version_minor": 0
      },
      "text/plain": [
       "Running Simulation:   0%|          | 0/500 [00:00<?, ?it/s]"
      ]
     },
     "metadata": {},
     "output_type": "display_data"
    },
    {
     "name": "stdout",
     "output_type": "stream",
     "text": [
      "[70. 75.] pA\n",
      "#######################\n",
      "# Starting Simulation #\n",
      "#######################\n",
      "\n",
      "Treatment Parameters: time sensitivity 8. ms FR Threshold: 5. Hz\n",
      "\n"
     ]
    },
    {
     "data": {
      "application/vnd.jupyter.widget-view+json": {
       "model_id": "a1c93e7b5a854e458f419638686f91a4",
       "version_major": 2,
       "version_minor": 0
      },
      "text/plain": [
       "Running Simulation:   0%|          | 0/500 [00:00<?, ?it/s]"
      ]
     },
     "metadata": {},
     "output_type": "display_data"
    },
    {
     "name": "stdout",
     "output_type": "stream",
     "text": [
      "[70. 75.] pA\n",
      "#######################\n",
      "# Starting Simulation #\n",
      "#######################\n",
      "\n",
      "Treatment Parameters: time sensitivity 8. ms FR Threshold: 5. Hz\n",
      "\n"
     ]
    },
    {
     "data": {
      "application/vnd.jupyter.widget-view+json": {
       "model_id": "88bad91c368f4794894f28de63b6d8a5",
       "version_major": 2,
       "version_minor": 0
      },
      "text/plain": [
       "Running Simulation:   0%|          | 0/500 [00:00<?, ?it/s]"
      ]
     },
     "metadata": {},
     "output_type": "display_data"
    },
    {
     "name": "stdout",
     "output_type": "stream",
     "text": [
      "[70. 75.] pA\n",
      "#######################\n",
      "# Starting Simulation #\n",
      "#######################\n",
      "\n",
      "Treatment Parameters: time sensitivity 8. ms FR Threshold: 5. Hz\n",
      "\n"
     ]
    },
    {
     "data": {
      "application/vnd.jupyter.widget-view+json": {
       "model_id": "bf984d2d77e14be79dd54d1783f15557",
       "version_major": 2,
       "version_minor": 0
      },
      "text/plain": [
       "Running Simulation:   0%|          | 0/500 [00:00<?, ?it/s]"
      ]
     },
     "metadata": {},
     "output_type": "display_data"
    }
   ],
   "source": [
    "# Running the simulation with the variables.\n",
    "run_model_loop(variables)"
   ]
  }
 ],
 "metadata": {
  "kernelspec": {
   "display_name": "Python 3 (ipykernel)",
   "language": "python",
   "name": "python3"
  },
  "language_info": {
   "codemirror_mode": {
    "name": "ipython",
    "version": 3
   },
   "file_extension": ".py",
   "mimetype": "text/x-python",
   "name": "python",
   "nbconvert_exporter": "python",
   "pygments_lexer": "ipython3",
   "version": "3.12.3"
  }
 },
 "nbformat": 4,
 "nbformat_minor": 5
}
