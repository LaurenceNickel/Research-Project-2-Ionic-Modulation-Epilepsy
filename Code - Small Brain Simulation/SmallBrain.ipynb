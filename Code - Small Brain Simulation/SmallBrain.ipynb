{
 "cells": [
  {
   "cell_type": "markdown",
   "id": "27fc590d-d3fa-4c9c-9091-ce65833ce1ca",
   "metadata": {},
   "source": [
    "<h1 style=\"font-size: 50px;\">Research Project 2 Epilepsy Ionic Modulation - SmallBrain</h1>"
   ]
  },
  {
   "cell_type": "markdown",
   "id": "3dbc7291-82c6-44cd-bf20-c4b008e74319",
   "metadata": {},
   "source": [
    "<br></br><br></br>"
   ]
  },
  {
   "cell_type": "markdown",
   "id": "ad949241-52a7-44c4-aa78-34ef69aac4a8",
   "metadata": {},
   "source": [
    "<h2 style=\"font-size: 40px;\">Installing and Importing Libraries</h2>"
   ]
  },
  {
   "cell_type": "code",
   "execution_count": 5,
   "id": "4f62ff77-02e0-403a-92d7-862c41466727",
   "metadata": {
    "ExecuteTime": {
     "end_time": "2024-06-19T10:04:18.313267Z",
     "start_time": "2024-06-19T10:03:31.027758Z"
    }
   },
   "outputs": [],
   "source": [
    "# Installing all the required libraries.\n",
    "!pip install -q jupyter\n",
    "!pip install -q matplotlib\n",
    "!pip install -q numpy\n",
    "!pip install -q pandas\n",
    "!pip install -q plotly\n",
    "!pip install -q scipy\n",
    "!pip install -q tqdm\n",
    "!pip install -q Brian2"
   ]
  },
  {
   "cell_type": "code",
   "execution_count": 6,
   "id": "f612a0ee",
   "metadata": {
    "ExecuteTime": {
     "end_time": "2024-06-19T10:04:22.804789Z",
     "start_time": "2024-06-19T10:04:18.317220Z"
    }
   },
   "outputs": [],
   "source": [
    "from plots import *\n",
    "from equations import *\n",
    "from global_settings import *\n",
    "from masks import *\n",
    "from helper import *\n",
    "from run_loop import *"
   ]
  },
  {
   "cell_type": "code",
   "execution_count": 7,
   "id": "ae2d1972-0db0-4a35-9f5e-db4a3238efff",
   "metadata": {},
   "outputs": [],
   "source": [
    "# Importing all the required libraries.\n",
    "import os\n",
    "from brian2 import *\n",
    "import random\n",
    "from tqdm.notebook import tqdm\n",
    "import numpy as np\n",
    "import time\n",
    "\n",
    "import warnings\n",
    "warnings.filterwarnings('ignore')"
   ]
  },
  {
   "cell_type": "markdown",
   "id": "50a64da5-9001-4f34-88e0-65ab7a52d6d5",
   "metadata": {},
   "source": [
    "<br></br>"
   ]
  },
  {
   "cell_type": "markdown",
   "id": "400b8eac-14cb-41f7-9f52-43ec07831c66",
   "metadata": {},
   "source": [
    "<h2 style=\"font-size: 40px;\">General Functions</h2>"
   ]
  },
  {
   "cell_type": "code",
   "execution_count": 8,
   "id": "e0cc288b-240a-44cd-b832-2981ae76846f",
   "metadata": {
    "ExecuteTime": {
     "end_time": "2024-06-19T10:04:22.812011Z",
     "start_time": "2024-06-19T10:04:22.804789Z"
    }
   },
   "outputs": [],
   "source": [
    "# Reads the stimulus input signal.\n",
    "def read_input_signal(file_name):\n",
    "    in_1 = np.loadtxt('./stimuli/'+file_name)\n",
    "\n",
    "    # Converting the signal to be of type 'TimedArray' with a specified time step which can be used in the simulation.\n",
    "    input_signal = TimedArray(in_1*namp,dt=defaultclock.dt)\n",
    "\n",
    "    return input_signal"
   ]
  },
  {
   "cell_type": "markdown",
   "id": "808505a2-0078-441a-93d5-5d33446fd7a4",
   "metadata": {},
   "source": [
    "<br></br>"
   ]
  },
  {
   "cell_type": "markdown",
   "id": "09a47486-78e3-40d8-a25a-6336560a84dd",
   "metadata": {},
   "source": [
    "<h2 style=\"font-size: 40px;\">Topology and Neuron Groups Functions</h2>"
   ]
  },
  {
   "cell_type": "code",
   "execution_count": 9,
   "id": "ee851199",
   "metadata": {
    "ExecuteTime": {
     "end_time": "2024-06-19T10:04:22.859255Z",
     "start_time": "2024-06-19T10:04:22.812011Z"
    }
   },
   "outputs": [
    {
     "data": {
      "text/plain": [
       "array([[455.70692355, 334.92891014, 280.23796058, ..., 256.3507042 ,\n",
       "        372.50879762, 572.59773561],\n",
       "       [108.66581544, 137.85567682, 249.45966897, ..., 273.96656499,\n",
       "        175.65770739, 117.70616517],\n",
       "       [525.65881218, 372.44661703, 333.61458018, ..., 303.34186194,\n",
       "        113.27076423, 438.66623063]])"
      ]
     },
     "execution_count": 9,
     "metadata": {},
     "output_type": "execute_result"
    }
   ],
   "source": [
    "# Creates the 3D space of neurons (0.6 mm x 0.6 mm x 0.6 mm).\n",
    "def create_neuron_topology(N, bounds):\n",
    "    \n",
    "    x_bound, y_bound, z_bound = bounds\n",
    "\n",
    "    # Creates a set of random x, y, and z points, in total N points, that fall between 0 and the bound of 0.6.\n",
    "    x = [random.uniform(0, x_bound) for _ in range(N)]\n",
    "    y = [random.uniform(0, y_bound) for _ in range(N)]\n",
    "    z = [random.uniform(0, z_bound) for _ in range(N)]\n",
    "    topology = np.array([x, y, z])\n",
    "    \n",
    "    return topology\n",
    "\n",
    "create_neuron_topology(17000, [600, 600, 600])"
   ]
  },
  {
   "cell_type": "code",
   "execution_count": 10,
   "id": "a9391df9",
   "metadata": {
    "ExecuteTime": {
     "end_time": "2024-06-19T10:04:22.873393Z",
     "start_time": "2024-06-19T10:04:22.862149Z"
    }
   },
   "outputs": [],
   "source": [
    "# Creates the group of excitatory neurons.\n",
    "def create_group_py(topology, noise, masks, group_name='exc_group', integ_method='exponential_euler'):\n",
    "\n",
    "    # Extracting the passed on parameters.\n",
    "    x, y, z = topology\n",
    "    mu_noise, sigma_noise = noise\n",
    "    stimulus_mask, treatment_mask = masks\n",
    "\n",
    "    # Initializing a group of excitatory neurons which contains as many neurons as there are total neurons in the 3D space.\n",
    "    # It has the following parameters:\n",
    "    # - py_eqs => Differential equations that define the behavior of the excitatory neuron.\n",
    "    # - threshold => Neurons fire an action potential when their membrane potential 'v' exceeds the threshold 'V_th'.\n",
    "    # - reset => Resets neuron states after they fire according to 'reset_eqs'.\n",
    "    # - refractory => Sets a refractory period during which an excitatory neuron cannot fire again.\n",
    "    # - method => Specifies the integration method for solving the differential equations.\n",
    "    G_exc = NeuronGroup(len(x),py_eqs,threshold='v>V_th',reset=reset_eqs,refractory=3*ms,name=group_name, method=integ_method)\n",
    "\n",
    "    # Initializing the membrane potential 'v' to be a random value between -60 mV and -100 mV.\n",
    "    G_exc.v = '-60*mvolt-rand()*40*mvolt'\n",
    "\n",
    "    # Sets the neurotransmitter to be used to be glutamate (which is an excitatory neurotransmitter).\n",
    "    G_exc.glu = 1\n",
    "\n",
    "    # Assigns the positions of the neurons in micrometers.\n",
    "    G_exc.x = x * um\n",
    "    G_exc.y = y * um\n",
    "    G_exc.z = z * um\n",
    "\n",
    "    # Sets the size of the neurons to 'taille_exc_normale'.\n",
    "    G_exc.taille = taille_exc_normale\n",
    "\n",
    "    # Sets the mean and standard deviation of the noise affecting the neurons.\n",
    "    G_exc.mu_noise = mu_noise\n",
    "    G_exc.sigma_noise = sigma_noise\n",
    "\n",
    "    # Applies the treatment and the stimulus masks to the neuron.\n",
    "    G_exc.treatment_mask = treatment_mask\n",
    "    G_exc.stimulus_mask = stimulus_mask\n",
    "\n",
    "    return G_exc"
   ]
  },
  {
   "cell_type": "code",
   "execution_count": 11,
   "id": "b2a2423b",
   "metadata": {
    "ExecuteTime": {
     "end_time": "2024-06-19T10:04:22.885219Z",
     "start_time": "2024-06-19T10:04:22.874961Z"
    }
   },
   "outputs": [],
   "source": [
    "# Creates the group of inhibitory neurons.\n",
    "def create_group_inh(topology, noise, treatment_mask, group_name='inh_group', integ_method='exponential_euler'):\n",
    "\n",
    "    # Extracting the passed on parameters.\n",
    "    x, y, z = topology\n",
    "    mu_noise, sigma_noise = noise\n",
    "\n",
    "    # Initializing a group of inhibitory neurons which contains as many neurons as there are total neurons in the 3D space.\n",
    "    # It has the following parameters:\n",
    "    # - inh_eqs => Differential equations that define the behavior of the inhibitory neuron.\n",
    "    # - threshold => Neurons fire an action potential when their membrane potential 'v' exceeds the threshold 'V_th'.\n",
    "    # - refractory => Sets a refractory period during which an inhibitory neuron cannot fire again.\n",
    "    # - method => Specifies the integration method for solving the differential equations.\n",
    "    G_inh = NeuronGroup(len(x),inh_eqs,threshold='v>V_th', name=group_name, refractory=3*ms,method=integ_method)\n",
    "\n",
    "    # Initializing the membrane potential 'v' to be a random value between -60 mV and -70 mV.\n",
    "    G_inh.v = -60*mvolt-rand()*10*mvolt\n",
    "\n",
    "    # Sets the size of the neurons to 'taille_exc_normale'.\n",
    "    G_inh.taille = taille_inh_normale\n",
    "\n",
    "    # Assigns the positions of the neurons in micrometers.\n",
    "    G_inh.x = x * um\n",
    "    G_inh.y = y * um\n",
    "    G_inh.z = z * um\n",
    "\n",
    "    # Sets the mean and standard deviation of the noise affecting the neurons.\n",
    "    G_inh.mu_noise = mu_noise\n",
    "    G_inh.sigma_noise = sigma_noise\n",
    "\n",
    "    # Applies the treatment mask to the neuron.\n",
    "    G_inh.treatment_mask = treatment_mask\n",
    "\n",
    "    return G_inh"
   ]
  },
  {
   "cell_type": "code",
   "execution_count": 12,
   "id": "68b7a1c5",
   "metadata": {
    "ExecuteTime": {
     "end_time": "2024-06-19T10:04:22.897141Z",
     "start_time": "2024-06-19T10:04:22.887597Z"
    }
   },
   "outputs": [],
   "source": [
    "# Creates a group for Local Field Potential (LFP) recording.\n",
    "def create_group_lfp(bounds):\n",
    "\n",
    "    # Extracting the passed on parameters.\n",
    "    x_bound, y_bound, z_bound = bounds\n",
    "    \n",
    "    # Setting up a singular LFP electrode\n",
    "    Ne = 1\n",
    "\n",
    "    # Setting the resistivity of the extracellular field to 0.3 siemens per meter, which is within the typical range for biological tissue (0.3-0.4 S/m).\n",
    "    sigma = 0.3*siemens/meter\n",
    "\n",
    "    # Initializes a group of neurons, which will only consist of 1 representing a single LFP electrode which has three state variables:\n",
    "    # - v : volt => Represents the voltage (LFP signal).\n",
    "    # - x : meter => Represent the x-coordinate of the electrode.\n",
    "    # - y : meter => Represent the y-coordinate of the electrode.\n",
    "    # - z : meter => Represent the z-coordinate of the electrode.\n",
    "    lfp = NeuronGroup(Ne, model='''v : volt\n",
    "                                   x : meter\n",
    "                                   y : meter\n",
    "                                   z : meter''')\n",
    "\n",
    "    # Setting the x, y, and z coordinates of the LFP electrode to the center of the bounds provided. This places the electrode at the midpoint of the defined 3D space in each dimension.\n",
    "    lfp.x = x_bound/2*um\n",
    "    lfp.y = y_bound/2*um\n",
    "    lfp.z = z_bound/2*um\n",
    "\n",
    "    return lfp"
   ]
  },
  {
   "cell_type": "markdown",
   "id": "558578b8-54f0-43fc-9247-653d15cf7106",
   "metadata": {},
   "source": [
    "<br></br>"
   ]
  },
  {
   "cell_type": "markdown",
   "id": "4cb3ba69-edad-4d16-b306-97fd660d3c91",
   "metadata": {},
   "source": [
    "<h2 style=\"font-size: 40px;\">Network Configuration Function</h2>"
   ]
  },
  {
   "cell_type": "code",
   "execution_count": 18,
   "id": "644b49fa",
   "metadata": {
    "ExecuteTime": {
     "end_time": "2024-06-19T10:04:22.917818Z",
     "start_time": "2024-06-19T10:04:22.898679Z"
    }
   },
   "outputs": [],
   "source": [
    "# Prepares the network of neurons. The topology is already there, but the neurons still need to be connected, which is done here.\n",
    "def prepare_network(topologies, stimulus_mask_exc, treatment_masks, current_variables):\n",
    "\n",
    "    # Extracting the passed on parameters, including the following parameters:\n",
    "    # - p_e2e => Probability of an excitatory to excitatory neuron (synapse) connection.\n",
    "    # - p_e2i => Probability of an excitatory to inhibitory neuron (synapse) connection.\n",
    "    # - p_i2e => Probability of an inhibitory to excitatory neuron (synapse) connection.\n",
    "    # - p_i2i => Probability of an inhibitory to inhibitory neuron (synapse) connection.\n",
    "    p_e2e, p_e2i, p_i2e, p_i2i = current_variables['p']\n",
    "    topology_exc, topology_inh = topologies\n",
    "    treatment_mask_exc, treatment_mask_inh = treatment_masks\n",
    "\n",
    "    \n",
    "    ##########################################\n",
    "    ########  Creating Neuron Groups  ########\n",
    "    ##########################################\n",
    "    # Creating excitatory and inhibitory neuron groups.\n",
    "    G_exc = create_group_py(topology_exc, current_variables['noise_exc'], [stimulus_mask_exc, treatment_mask_exc])\n",
    "    G_inh = create_group_inh(topology_inh, current_variables['noise_inh'], treatment_mask_inh)\n",
    "\n",
    "    # Setting up a Local Field Potential (LFP) electrode.\n",
    "    G_lfp = create_group_lfp(current_variables['bounds'])\n",
    "    neuron_groups = [G_exc, G_exc, G_inh, G_lfp]\n",
    "\n",
    "    \n",
    "    #####################################\n",
    "    ########  Creating Monitors  ########\n",
    "    #####################################\n",
    "    # Setting up monitors that monitor the population firing rate of excitatory and inhibitory neurons.\n",
    "    popmon_exc = PopulationRateMonitor(G_exc)\n",
    "    popmon_inh = PopulationRateMonitor(G_inh)\n",
    "\n",
    "    # Setting up a monitor that monitors the voltage of the LFP group.\n",
    "    Mlfp = StateMonitor(G_lfp, 'v', record=True)\n",
    "\n",
    "    # Setting up monitors that monitor the membrane potential, the noise current (and the stimulus current) for the selected excitatory/inhibitory neurons.\n",
    "    statemon_exc = StateMonitor(G_exc, ('v', 'I_stim', 'I_noise'), record=[1,2,3,4,5,6], dt=0.001*second)\n",
    "    statemon_inh = StateMonitor(G_inh, ('v', 'I_noise'), record=[1,2,3,4,5,6], dt=0.001*second)\n",
    "    monitors = [popmon_exc, popmon_inh, statemon_exc, statemon_inh, Mlfp]\n",
    "\n",
    "\n",
    "    ############################################\n",
    "    ########  Connecting Neuron Groups  ########\n",
    "    ############################################\n",
    "    # Configuring synaptic connections between neuron groups where in the function call 'Synapses()' the first parameter is the pre-synaptic group and the second parameter is the post-synaptic group. \n",
    "    # The third parameter 'on_pre' specifies the action to be taken when a pre-synaptic neuron fires where the synaptic event will increase the post-synaptic event by a certain amount defined by:\n",
    "    # - gain => A scaling factor for the synaptic strength.\n",
    "    # - g_max/siemens => The maximum conductance for the type of synapse normalized by dividing by 'siemens' which is a unit of conductance.\n",
    "    # - glu_pre => The amount of glutamate released from the pre-synaptic neuron upon firing.\n",
    "    # MIND: This does not create synapses but instead only specifies their dynamics. The actual synapse connections are created by using the function 'connect()'.\n",
    "    S_e2e = Synapses(G_exc, G_exc, on_pre=\"he_post+=\"+str(gain)+\"*\"+str(g_max_e/siemens)+\"*siemens*glu_pre\")\n",
    "    S_e2i = Synapses(G_exc, G_inh, on_pre=\"he_post+=\"+str(gain)+\"*\"+str(g_max_e/siemens)+\"*siemens*glu_pre\", name='synapses_e2i')\n",
    "    S_i2e = Synapses(G_inh, G_exc, on_pre=\"hi_post+=\"+str(gain)+\"*\"+str(g_max_i/siemens)+\"*siemens\", name='synapses_i2e')\n",
    "\n",
    "    # Generating the connections between the groups of neurons which is a probabilistic process indicating that not all neurons are connected with each other but instead it is decided based on the provided probability.\n",
    "    # This is done in the following way:\n",
    "    # - p_e2e => Base probability of connection between neurons of particular groups. \n",
    "    # - distance^2 => Squared Euclidean distance between the pre-synaptic and post-synaptic neurons that decreases the overall probability when it is larger.\n",
    "    # - umeter^2 => Controls the steepness of the exponential decay of the probability.\n",
    "    S_e2e.connect(p=f'{p_e2e}*exp(-(((x_pre-x_post)**2+(y_pre-y_post)**2+(z_pre-z_post)**2) / (({489.9}*umeter)**2)))')\n",
    "    S_e2i.connect(p=f'{p_e2i}*exp(-(((x_pre-x_post)**2+(y_pre-y_post)**2+(z_pre-z_post)**2) / (({489.9}*umeter)**2)))')\n",
    "    S_i2e.connect(p=f'{p_i2e}*exp(-(((x_pre-x_post)**2+(y_pre-y_post)**2+(z_pre-z_post)**2) / (({215}*umeter)**2)))')\n",
    "\n",
    "    # Configuring synaptic connections between the excitatory neurons and the LFP electrode by also specifies a model used for LFP calculation.\n",
    "    S_lfp = Synapses(G_exc, G_lfp, model='''w : ohm*meter**2 (constant) # Weight in the LFP calculation\n",
    "                                       v_post = w*((0.0*amp/meter**2)-Im_pre) : volt (summed)''')\n",
    "\n",
    "    # Ensuring LFP voltage is updated after neuron groups.\n",
    "    S_lfp.summed_updaters['v_post'].when = 'after_groups' \n",
    "\n",
    "    # Generating the connections between the excitatory neurons and the LFP electrode. Here, all of them will be connected since there is no probability defined.\n",
    "    S_lfp.connect()\n",
    "\n",
    "    # Setting the weight for LFP calculation which is scaled by the Euclidean distance measure.\n",
    "    S_lfp.w = '(29e3 * umetre ** 2)/(4*pi*sigma)/((x_pre-x_post)**2+(y_pre-y_post)**2+(z_pre-z_post)**2)**.5'\n",
    "\n",
    "    synapses = [S_e2e, S_e2i, S_i2e, S_lfp]\n",
    "\n",
    "\n",
    "    ############################################\n",
    "    ########  Final Network Definition  ########\n",
    "    ############################################\n",
    "    net = Network(neuron_groups, synapses, monitors)\n",
    "\n",
    "    return net, synapses, monitors"
   ]
  },
  {
   "cell_type": "markdown",
   "id": "62a2d875-6c5a-4dfc-9164-127b36ac8de5",
   "metadata": {},
   "source": [
    "<br></br>"
   ]
  },
  {
   "cell_type": "markdown",
   "id": "948b1d3c-cddb-48f2-bd18-558925b4ba68",
   "metadata": {},
   "source": [
    "<h2 style=\"font-size: 40px;\">Simulation Functions</h2>"
   ]
  },
  {
   "cell_type": "code",
   "execution_count": 19,
   "id": "9eb10c34",
   "metadata": {
    "ExecuteTime": {
     "end_time": "2024-06-19T10:04:22.930806Z",
     "start_time": "2024-06-19T10:04:22.917818Z"
    }
   },
   "outputs": [],
   "source": [
    "# Runs the simulation of the neural network in discrete time fragments which includes a mechanism to alter neuron parameters based on a firing rate threshold, which simulates a treatment effect.\n",
    "def run_granular_simulation(net, variables, treatment_settings, monitors):\n",
    "    \n",
    "    print('#######################')\n",
    "    print('# Starting Simulation #')\n",
    "    print('#######################')\n",
    "    print()\n",
    "\n",
    "    # Extracting the passed on parameters.\n",
    "    total_duration = variables['duration']\n",
    "    input_signal = read_input_signal(variables['input_signal_file'])\n",
    "    time_fragment, firing_rate_threshold = treatment_settings\n",
    "    popmon_exc, popmon_inh, statemon_exc, statemon_inh, Mlfp = monitors\n",
    "\n",
    "    \n",
    "    # Setting the potassium equilibrium potentials for both the excitatory and inhibitory neurons.\n",
    "    Eke = variables['Eke_baseline']\n",
    "    Eki = variables['Eki_baseline']\n",
    "    Eke_baseline = variables['Eke_baseline']\n",
    "    Eki_baseline = variables['Eki_baseline']\n",
    "    \n",
    "    print('Treatment Parameters:', 'time sensitivity', time_fragment, 'FR Threshold:', firing_rate_threshold)\n",
    "    print()\n",
    "\n",
    "    # Converting the time fragments to milliseconds and determining the number of batches.\n",
    "    time_fragment_ms = int(time_fragment/ms)\n",
    "    num_batches = int(total_duration / time_fragment)\n",
    "\n",
    "    # For every batch, we run the simulation on the network 'net'. Here the 'tqdm()' function is used which creates a progress bar.\n",
    "    for i in tqdm(range(num_batches), desc=\"Running Simulation\"): \n",
    "        net.run(time_fragment)\n",
    "\n",
    "        # If after running a time fragment, the average firing rate of the excitatory neurons over the last time fragment exceeds the threshold, treatment is initiated.\n",
    "        # This statement refers to the scenario where epilepsy is detected and treated by adjusting the potassium equilibrium potentials of the excitatory and inhibitory neurons.\n",
    "        if np.mean(popmon_exc.rate[-time_fragment_ms:]) > firing_rate_threshold:\n",
    "            Eke = variables['Eke_treatment']\n",
    "            Eki = variables['Eki_treatment']"
   ]
  },
  {
   "cell_type": "code",
   "execution_count": 20,
   "id": "e34f6cc6",
   "metadata": {
    "ExecuteTime": {
     "end_time": "2024-06-19T10:04:22.953643Z",
     "start_time": "2024-06-19T10:04:22.933285Z"
    }
   },
   "outputs": [],
   "source": [
    "# This function manages the overall process of setting up and running multiple instances of a neural network simulation as after setting everything up, the function 'run_granular_simulation()' is called.\n",
    "# In addition, it also handles the storing of the results.\n",
    "def run_model_loop(variables):\n",
    "\n",
    "    if not check_dict_lenghts(variables):\n",
    "        raise ValueError('Lenghts of each variable list has be to equal!')\n",
    "\n",
    "    # Adding the coordinates of the electrode to the variables array.\n",
    "    variables[\"coord_of_electrode\"] = populate_electrode_positions(variables)\n",
    "\n",
    "    # For every run provided in the 'run_id' field of the variables dictionary we perform the simulation (which requires some setting up first).\n",
    "    for i in range(len(variables['run_id'])):\n",
    "\n",
    "        ##########################################\n",
    "        ########  Basic Simulation Setup  ########\n",
    "        ##########################################\n",
    "        # Resetting the state of the simulation environment (to avoid interference from the previous run) and seeting the default simulation time step.\n",
    "        start_scope()\n",
    "        defaultclock.dt = 0.001*second   \n",
    "\n",
    "        # Extracting the list of variables required for the current run.\n",
    "        current_variables = {key: variables[key][i] for key in variables}\n",
    "        print(current_variables['noise_exc'])\n",
    "\n",
    "        # Retrieving the treatment settings.\n",
    "        treatment_settings = [current_variables['device_sensitivity'], current_variables['firing_rate_threshold']]\n",
    "\n",
    "        # Creating a folder to store the results.\n",
    "        run_id = current_variables[\"run_id\"]\n",
    "        os.mkdir(f'./results/{run_id}')\n",
    "        write_run_settings(current_variables, run_id)\n",
    "\n",
    "        \n",
    "        ############################################\n",
    "        ########  Creating Dynamic Objects  ########\n",
    "        ############################################\n",
    "        # Creating the topologies of both the excitatory and inhibitory neurons.\n",
    "        topology_exc = create_neuron_topology(current_variables['N'][0], current_variables['bounds'])\n",
    "        topology_inh = create_neuron_topology(current_variables['N'][1], current_variables['bounds'])\n",
    "        topologies = [topology_exc, topology_inh]\n",
    "\n",
    "        # Creating the stimulus mask.\n",
    "        stimulus_geometry_settings = [current_variables['coord_of_stimulus'], current_variables['radius_of_stimulus']]\n",
    "        stimulus_mask_exc = create_spherical_mask(topology_exc, stimulus_geometry_settings)\n",
    "\n",
    "        # Creating the treatment mask where all the neurons are included.\n",
    "        treatment_geometry_settings = [current_variables['coord_of_electrode'], current_variables['radius_of_electrode']]\n",
    "        treatment_mask_exc = np.ones(current_variables['N'][0])\n",
    "        treatment_mask_inh = np.ones(current_variables['N'][1])\n",
    "\n",
    "        # Creating the treatment mask where only a sphere of neurons in the middle of the area is included.\n",
    "        #treatment_mask_exc = create_spherical_mask(topology_exc, treatment_geometry_settings)\n",
    "        #treatment_mask_inh = create_spherical_mask(topology_inh, treatment_geometry_settings)\n",
    "        \n",
    "        treatment_masks = [treatment_mask_exc, treatment_mask_inh]\n",
    "        \n",
    "        # Instantiating the network and setting up the monitors.\n",
    "        net, synapses, monitors = prepare_network(topologies, stimulus_mask_exc, treatment_masks, current_variables)\n",
    "        popmon_exc, popmon_inh, statemon_exc, statemon_inh, Mlfp = monitors\n",
    "        \n",
    "        # Writing the network statistics to a file.\n",
    "        write_network_statistics(synapses, current_variables['N'], run_id)\n",
    "\n",
    "        # Plotting and saving the neuron stimulus and treatment mask.\n",
    "        plot_neuron_masks(topology_exc, [stimulus_mask_exc, treatment_mask_exc], run_id)\n",
    "        plot_neuron_mask(topology_exc, stimulus_mask_exc, 'red', 'stimulus', run_id)\n",
    "        plot_neuron_mask(topology_exc, treatment_mask_exc, 'blue', 'treatment', run_id)\n",
    "\n",
    "        try:\n",
    "            # Running the simulation with the dynamic objects created above.\n",
    "            run_granular_simulation(net, current_variables, treatment_settings, monitors)\n",
    "\n",
    "            # Saving the firing rate data.\n",
    "            np.savetxt(f'./results/{run_id}/fr_exc.txt', popmon_exc.rate)\n",
    "            np.savetxt(f'./results/{run_id}/fr_inh.txt', popmon_inh.rate)\n",
    "\n",
    "            # Plotting the firing rate data together with the noise for both the excitatory and inhibitory neurons.\n",
    "            plt.plot(popmon_inh.t, popmon_inh.rate, label='Inhibitory')\n",
    "            plt.plot(popmon_exc.t, popmon_exc.rate, label='Excitatory')\n",
    "\n",
    "            # Plotting and saving the firing rates.\n",
    "            plt.legend()\n",
    "            plt.savefig(f'./results/{run_id}/firing-rates.png', bbox_inches='tight')\n",
    "            plt.close()\n",
    "\n",
    "            # Plotting and saving the noise for the inhibitory neurons.\n",
    "            plt.plot(statemon_inh.t, statemon_inh.I_noise[4]/nA, label='inh')\n",
    "            plt.savefig(f'./results/{run_id}/noise_inh.png', bbox_inches='tight')\n",
    "            plt.close()\n",
    "\n",
    "            # Plotting and saving the noise for the excitatory neurons.\n",
    "            plt.plot(statemon_exc.t, statemon_exc.I_noise[4]/nA, label='exc')\n",
    "            plt.savefig(f'./results/{run_id}/noise_exc.png', bbox_inches='tight')\n",
    "            plt.close()\n",
    "\n",
    "            # Plotting and saving the recorded LFP voltage values in millivolts from the 'Mlfp' monitor. \n",
    "            np.savetxt(f'./results/{run_id}/LFP.txt', Mlfp.v[0]/mV)\n",
    "            plot(Mlfp.t/ms, Mlfp.v[0]/mV)\n",
    "            plt.savefig(f'./results/{run_id}/LFP.png', bbox_inches='tight')\n",
    "            plt.close()\n",
    "\n",
    "            \n",
    "        except:\n",
    "            print('Broken run.')\n",
    "        \n",
    "        time.sleep(1)"
   ]
  },
  {
   "cell_type": "markdown",
   "id": "98291fe9-880b-42ad-a435-bcd62607bfba",
   "metadata": {},
   "source": [
    "<br></br>"
   ]
  },
  {
   "cell_type": "markdown",
   "id": "ccc85ab7-a8e2-4d12-9cad-1ebba6ecdbf5",
   "metadata": {},
   "source": [
    "<h2 style=\"font-size: 40px;\">Simulation Variables</h2>"
   ]
  },
  {
   "cell_type": "code",
   "execution_count": 21,
   "id": "fa57f8e0",
   "metadata": {
    "ExecuteTime": {
     "end_time": "2024-06-19T10:04:22.968231Z",
     "start_time": "2024-06-19T10:04:22.953643Z"
    }
   },
   "outputs": [],
   "source": [
    "########################################\n",
    "########  Simulation Variables  ########\n",
    "########################################\n",
    "\n",
    "# Setting the number of times the simulation will be performed.\n",
    "copy_times = 5\n",
    "\n",
    "# Defining the vocabulary of variables.\n",
    "variables = {\n",
    "    \n",
    "    # Defining the simulation settings.\n",
    "    \"run_id\": ['Results 1', 'Results 2', 'Results 3', 'Results 4', 'Results 5'],\n",
    "    \"duration\": [4000*ms]*copy_times,\n",
    "    \"bounds\": [[600, 600, 600]]*copy_times,\n",
    "    \n",
    "    # Defining the network settings.\n",
    "    \"N\": [[13500, 3375]]*copy_times, # [N_exc, N_inh]\n",
    "\n",
    "    # Defining the potassium equilibrium potential for both the excitatory and inhibitory neurons.\n",
    "    # - Healthy mode: Eke_baseline = -90mV\n",
    "    # - Epileptic mode: Eke_baseline = -84mV\n",
    "    \"Eke_baseline\": [-84*mV]*copy_times, \n",
    "    \"Eki_baseline\": [-90*mV]*copy_times,\n",
    "\n",
    "    # Defining the noise affecting the excitatory and inhibitory neurons.\n",
    "    \"noise_exc\": [[0.07, 0.075]*nA]*copy_times, # OLD: [0.1045, 0.104]\n",
    "    \"noise_inh\": [[0.05, 0.08]*nA]*copy_times,\n",
    "\n",
    "    # Defining the base probabilities of connections between neurons:\n",
    "    # - p_e2e => Probability of an excitatory to excitatory neuron (synapse) connection.\n",
    "    # - p_e2i => Probability of an excitatory to inhibitory neuron (synapse) connection.\n",
    "    # - p_i2e => Probability of an inhibitory to excitatory neuron (synapse) connection.\n",
    "    # - p_i2i => Probability of an inhibitory to inhibitory neuron (synapse) connection.\n",
    "    # Normal ranges from 0.7-0.75, to activate sprouting increase the normal by 0.5\n",
    "    # This will increase the average number of excitatory connections by 500.\n",
    "    \"p\": [[0.75, 0.35, 0.35, 0.0]]*copy_times, \n",
    "\n",
    "    # Defining the stimulus settings where with the coordinates of (300, 300, 300) the stimulus will be applied to the middle of the neuron block.\n",
    "    \"input_signal_file\": ['sigmoid-1.0.txt']*copy_times, \n",
    "    \"coord_of_stimulus\": [[300, 300, 300]]*copy_times,\n",
    "    \"radius_of_stimulus\": [180]*copy_times,\n",
    "\n",
    "    # Defining the treatment settings.\n",
    "    \"device_sensitivity\": [8*ms]*copy_times, # Device sensitivity - how frequently to check is firing rate is above the threshold\n",
    "    \"firing_rate_threshold\": [5*Hz]*copy_times, \n",
    "    \"Eke_treatment\": [-100*mV]*copy_times,\n",
    "    \"Eki_treatment\": [-90*mV]*copy_times,\n",
    "    \"radius_of_electrode\": [200]*copy_times,\n",
    "    \"distance_between_masks\": [100]*copy_times,\n",
    "}"
   ]
  },
  {
   "cell_type": "markdown",
   "id": "8f620dff-7178-4719-802d-234e01d7ade9",
   "metadata": {
    "scrolled": true
   },
   "source": [
    "<br></br>"
   ]
  },
  {
   "cell_type": "markdown",
   "id": "8643c399-9a7c-4e4e-8a53-afee09595e84",
   "metadata": {},
   "source": [
    "<h2 style=\"font-size: 40px;\">Running the Simulation</h2>"
   ]
  },
  {
   "cell_type": "code",
   "execution_count": 22,
   "id": "d5642155",
   "metadata": {
    "ExecuteTime": {
     "end_time": "2024-06-19T10:04:53.517908Z",
     "start_time": "2024-06-19T10:04:53.056141Z"
    },
    "scrolled": true
   },
   "outputs": [
    {
     "name": "stdout",
     "output_type": "stream",
     "text": [
      "\n",
      "Radius of electrode: 200\n",
      "Max distance possible between masks: 173.20508075688772\n",
      "Distance selected: 100\n",
      "\n",
      "\n",
      "Radius of electrode: 200\n",
      "Max distance possible between masks: 173.20508075688772\n",
      "Distance selected: 100\n",
      "\n",
      "\n",
      "Radius of electrode: 200\n",
      "Max distance possible between masks: 173.20508075688772\n",
      "Distance selected: 100\n",
      "\n",
      "\n",
      "Radius of electrode: 200\n",
      "Max distance possible between masks: 173.20508075688772\n",
      "Distance selected: 100\n",
      "\n",
      "\n",
      "Radius of electrode: 200\n",
      "Max distance possible between masks: 173.20508075688772\n",
      "Distance selected: 100\n",
      "\n",
      "[70. 75.] pA\n",
      "#######################\n",
      "# Starting Simulation #\n",
      "#######################\n",
      "\n",
      "Treatment Parameters: time sensitivity 8. ms FR Threshold: 5. Hz\n",
      "\n"
     ]
    },
    {
     "data": {
      "application/vnd.jupyter.widget-view+json": {
       "model_id": "258d81d67d264105856088ccfdb1a592",
       "version_major": 2,
       "version_minor": 0
      },
      "text/plain": [
       "Running Simulation:   0%|          | 0/500 [00:00<?, ?it/s]"
      ]
     },
     "metadata": {},
     "output_type": "display_data"
    },
    {
     "name": "stderr",
     "output_type": "stream",
     "text": [
      "WARNING    'glu' is an internal variable of group 'exc_group', but also exists in the run namespace with the value 1. The internal variable will be used. [brian2.groups.group.Group.resolve.resolution_conflict]\n",
      "WARNING    inh_group's variable 'n' has NaN, very large values, or encountered an error in numerical integration. This is usually a sign that an unstable or invalid integration method was chosen. [brian2.groups.group.invalid_values]\n",
      "WARNING    inh_group's variable 'v' has NaN, very large values, or encountered an error in numerical integration. This is usually a sign that an unstable or invalid integration method was chosen. [brian2.groups.group.invalid_values]\n",
      "WARNING    inh_group's variable 'm' has NaN, very large values, or encountered an error in numerical integration. This is usually a sign that an unstable or invalid integration method was chosen. [brian2.groups.group.invalid_values]\n",
      "WARNING    inh_group's variable 'h' has NaN, very large values, or encountered an error in numerical integration. This is usually a sign that an unstable or invalid integration method was chosen. [brian2.groups.group.invalid_values]\n"
     ]
    },
    {
     "name": "stdout",
     "output_type": "stream",
     "text": [
      "Broken run.\n",
      "[70. 75.] pA\n",
      "#######################\n",
      "# Starting Simulation #\n",
      "#######################\n",
      "\n",
      "Treatment Parameters: time sensitivity 8. ms FR Threshold: 5. Hz\n",
      "\n"
     ]
    },
    {
     "data": {
      "application/vnd.jupyter.widget-view+json": {
       "model_id": "2d3288e1e49442f29861357a449cfd66",
       "version_major": 2,
       "version_minor": 0
      },
      "text/plain": [
       "Running Simulation:   0%|          | 0/500 [00:00<?, ?it/s]"
      ]
     },
     "metadata": {},
     "output_type": "display_data"
    },
    {
     "name": "stdout",
     "output_type": "stream",
     "text": [
      "[70. 75.] pA\n",
      "#######################\n",
      "# Starting Simulation #\n",
      "#######################\n",
      "\n",
      "Treatment Parameters: time sensitivity 8. ms FR Threshold: 5. Hz\n",
      "\n"
     ]
    },
    {
     "data": {
      "application/vnd.jupyter.widget-view+json": {
       "model_id": "b32c34f9cc55435fa26e508e002f7a7e",
       "version_major": 2,
       "version_minor": 0
      },
      "text/plain": [
       "Running Simulation:   0%|          | 0/500 [00:00<?, ?it/s]"
      ]
     },
     "metadata": {},
     "output_type": "display_data"
    },
    {
     "name": "stdout",
     "output_type": "stream",
     "text": [
      "[70. 75.] pA\n",
      "#######################\n",
      "# Starting Simulation #\n",
      "#######################\n",
      "\n",
      "Treatment Parameters: time sensitivity 8. ms FR Threshold: 5. Hz\n",
      "\n"
     ]
    },
    {
     "data": {
      "application/vnd.jupyter.widget-view+json": {
       "model_id": "13db189367884f80bb1ee786c578d513",
       "version_major": 2,
       "version_minor": 0
      },
      "text/plain": [
       "Running Simulation:   0%|          | 0/500 [00:00<?, ?it/s]"
      ]
     },
     "metadata": {},
     "output_type": "display_data"
    },
    {
     "name": "stdout",
     "output_type": "stream",
     "text": [
      "[70. 75.] pA\n",
      "#######################\n",
      "# Starting Simulation #\n",
      "#######################\n",
      "\n",
      "Treatment Parameters: time sensitivity 8. ms FR Threshold: 5. Hz\n",
      "\n"
     ]
    },
    {
     "data": {
      "application/vnd.jupyter.widget-view+json": {
       "model_id": "7797eff8a78e485ca81e584100c75dd3",
       "version_major": 2,
       "version_minor": 0
      },
      "text/plain": [
       "Running Simulation:   0%|          | 0/500 [00:00<?, ?it/s]"
      ]
     },
     "metadata": {},
     "output_type": "display_data"
    }
   ],
   "source": [
    "# Running the simulation with the variables.\n",
    "run_model_loop(variables)"
   ]
  },
  {
   "cell_type": "code",
   "execution_count": 14,
   "id": "351c5f8e8d30c00e",
   "metadata": {
    "ExecuteTime": {
     "end_time": "2024-06-19T10:05:05.971123Z",
     "start_time": "2024-06-19T10:05:05.621985Z"
    }
   },
   "outputs": [
    {
     "name": "stdout",
     "output_type": "stream",
     "text": [
      "\n",
      "Radius of electrode: 200\n",
      "Max distance possible between masks: 173.20508075688772\n",
      "Distance selected: 100\n",
      "\n",
      "\n",
      "Radius of electrode: 200\n",
      "Max distance possible between masks: 173.20508075688772\n",
      "Distance selected: 100\n",
      "\n",
      "\n",
      "Radius of electrode: 200\n",
      "Max distance possible between masks: 173.20508075688772\n",
      "Distance selected: 100\n",
      "\n",
      "\n",
      "Radius of electrode: 200\n",
      "Max distance possible between masks: 173.20508075688772\n",
      "Distance selected: 100\n",
      "\n",
      "\n",
      "Radius of electrode: 200\n",
      "Max distance possible between masks: 173.20508075688772\n",
      "Distance selected: 100\n",
      "\n",
      "[70. 75.] pA\n"
     ]
    },
    {
     "ename": "FileNotFoundError",
     "evalue": "[WinError 3] The system cannot find the path specified: './results/Results 1'",
     "output_type": "error",
     "traceback": [
      "\u001b[1;31m---------------------------------------------------------------------------\u001b[0m",
      "\u001b[1;31mFileNotFoundError\u001b[0m                         Traceback (most recent call last)",
      "Cell \u001b[1;32mIn[14], line 1\u001b[0m\n\u001b[1;32m----> 1\u001b[0m \u001b[43mrun_model_loop\u001b[49m\u001b[43m(\u001b[49m\u001b[43mvariables\u001b[49m\u001b[43m)\u001b[49m\n",
      "Cell \u001b[1;32mIn[10], line 30\u001b[0m, in \u001b[0;36mrun_model_loop\u001b[1;34m(variables)\u001b[0m\n\u001b[0;32m     28\u001b[0m \u001b[38;5;66;03m# Creating a folder to store the results.\u001b[39;00m\n\u001b[0;32m     29\u001b[0m run_id \u001b[38;5;241m=\u001b[39m current_variables[\u001b[38;5;124m\"\u001b[39m\u001b[38;5;124mrun_id\u001b[39m\u001b[38;5;124m\"\u001b[39m]\n\u001b[1;32m---> 30\u001b[0m \u001b[43mos\u001b[49m\u001b[38;5;241;43m.\u001b[39;49m\u001b[43mmkdir\u001b[49m\u001b[43m(\u001b[49m\u001b[38;5;124;43mf\u001b[39;49m\u001b[38;5;124;43m'\u001b[39;49m\u001b[38;5;124;43m./results/\u001b[39;49m\u001b[38;5;132;43;01m{\u001b[39;49;00m\u001b[43mrun_id\u001b[49m\u001b[38;5;132;43;01m}\u001b[39;49;00m\u001b[38;5;124;43m'\u001b[39;49m\u001b[43m)\u001b[49m\n\u001b[0;32m     31\u001b[0m write_run_settings(current_variables, run_id)\n\u001b[0;32m     34\u001b[0m \u001b[38;5;66;03m############################################\u001b[39;00m\n\u001b[0;32m     35\u001b[0m \u001b[38;5;66;03m########  Creating Dynamic Objects  ########\u001b[39;00m\n\u001b[0;32m     36\u001b[0m \u001b[38;5;66;03m############################################\u001b[39;00m\n\u001b[0;32m     37\u001b[0m \u001b[38;5;66;03m# Creating the topologies of both the excitatory and inhibitory neurons.\u001b[39;00m\n",
      "\u001b[1;31mFileNotFoundError\u001b[0m: [WinError 3] The system cannot find the path specified: './results/Results 1'"
     ]
    }
   ],
   "source": [
    "run_model_loop(variables)"
   ]
  }
 ],
 "metadata": {
  "kernelspec": {
   "display_name": "Python 3 (ipykernel)",
   "language": "python",
   "name": "python3"
  },
  "language_info": {
   "codemirror_mode": {
    "name": "ipython",
    "version": 3
   },
   "file_extension": ".py",
   "mimetype": "text/x-python",
   "name": "python",
   "nbconvert_exporter": "python",
   "pygments_lexer": "ipython3",
   "version": "3.12.3"
  }
 },
 "nbformat": 4,
 "nbformat_minor": 5
}
